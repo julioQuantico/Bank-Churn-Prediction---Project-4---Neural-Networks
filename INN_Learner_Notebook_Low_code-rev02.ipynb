{
  "cells": [
    {
      "cell_type": "markdown",
      "metadata": {
        "id": "EoO7ROnuht51"
      },
      "source": [
        "<center><font size=6> Bank Churn Prediction </font></center>"
      ]
    },
    {
      "cell_type": "markdown",
      "metadata": {
        "id": "Q__obHNhdHtV"
      },
      "source": [
        "## Problem Statement"
      ]
    },
    {
      "cell_type": "markdown",
      "metadata": {
        "id": "WSyQJZSAaPA3"
      },
      "source": [
        "### Context"
      ]
    },
    {
      "cell_type": "markdown",
      "metadata": {
        "id": "vJQ5k8umdJdN"
      },
      "source": [
        "Businesses like banks which provide service have to worry about problem of 'Customer Churn' i.e. customers leaving and joining another service provider. It is important to understand which aspects of the service influence a customer's decision in this regard. Management can concentrate efforts on improvement of service, keeping in mind these priorities."
      ]
    },
    {
      "cell_type": "markdown",
      "metadata": {
        "id": "s749lpTNaRkN"
      },
      "source": [
        "### Objective"
      ]
    },
    {
      "cell_type": "markdown",
      "metadata": {
        "id": "XbrLMQQ6dKQU"
      },
      "source": [
        "You as a Data scientist with the  bank need to  build a neural network based classifier that can determine whether a customer will leave the bank  or not in the next 6 months."
      ]
    },
    {
      "cell_type": "markdown",
      "metadata": {
        "id": "Tsb28swdaVAs"
      },
      "source": [
        "### Data Dictionary"
      ]
    },
    {
      "cell_type": "markdown",
      "metadata": {
        "id": "-mquomUwdMol"
      },
      "source": [
        "* CustomerId: Unique ID which is assigned to each customer\n",
        "\n",
        "* Surname: Last name of the customer\n",
        "\n",
        "* CreditScore: It defines the credit history of the customer.\n",
        "  \n",
        "* Geography: A customer’s location\n",
        "   \n",
        "* Gender: It defines the Gender of the customer\n",
        "   \n",
        "* Age: Age of the customer\n",
        "    \n",
        "* Tenure: Number of years for which the customer has been with the bank\n",
        "\n",
        "* NumOfProducts: refers to the number of products that a customer has purchased through the bank.\n",
        "\n",
        "* Balance: Account balance\n",
        "\n",
        "* HasCrCard: It is a categorical variable which decides whether the customer has credit card or not.\n",
        "\n",
        "* EstimatedSalary: Estimated salary\n",
        "\n",
        "* IsActiveMember: Is is a categorical variable which decides whether the customer is active member of the bank or not ( Active member in the sense, using bank products regularly, making transactions etc )\n",
        "\n",
        "* Exited : whether or not the customer left the bank within six month. It can take two values\n",
        "    - 0 = No ( Customer did not leave the bank )\n",
        "    - 1 = Yes ( Customer left the bank )"
      ]
    },
    {
      "cell_type": "code",
      "execution_count": null,
      "metadata": {
        "id": "oyTYkHrRc0kz"
      },
      "outputs": [],
      "source": []
    },
    {
      "cell_type": "markdown",
      "metadata": {
        "id": "NbHOIdlwcrqR"
      },
      "source": [
        "## **Please read the instructions carefully before starting the project.**\n",
        "This is a commented Jupyter IPython Notebook file in which all the instructions and tasks to be performed are mentioned.\n",
        "* Blanks '_______' are provided in the notebook that\n",
        "needs to be filled with an appropriate code to get the correct result. With every '_______' blank, there is a comment that briefly describes what needs to be filled in the blank space.\n",
        "* Identify the task to be performed correctly, and only then proceed to write the required code.\n",
        "* Fill the code wherever asked by the commented lines like \"# write your code here\" or \"# complete the code\". Running incomplete code may throw error.\n",
        "* Please run the codes in a sequential manner from the beginning to avoid any unnecessary errors.\n",
        "* Add the results/observations (wherever mentioned) derived from the analysis in the presentation and submit the same.\n"
      ]
    },
    {
      "cell_type": "markdown",
      "metadata": {
        "id": "FHHrSIl4c6Yn"
      },
      "source": [
        "## Importing necessary libraries"
      ]
    },
    {
      "cell_type": "code",
      "execution_count": null,
      "metadata": {
        "id": "M3rUxqthe99Y",
        "colab": {
          "base_uri": "https://localhost:8080/"
        },
        "outputId": "1533e243-2e7d-45c6-9167-639b1dde4b60"
      },
      "outputs": [
        {
          "output_type": "stream",
          "name": "stdout",
          "text": [
            "\u001b[2K   \u001b[90m━━━━━━━━━━━━━━━━━━━━━━━━━━━━━━━━━━━━━━━━\u001b[0m \u001b[32m475.3/475.3 MB\u001b[0m \u001b[31m3.2 MB/s\u001b[0m eta \u001b[36m0:00:00\u001b[0m\n",
            "\u001b[?25h\u001b[33mWARNING: Retrying (Retry(total=4, connect=None, read=None, redirect=None, status=None)) after connection broken by 'ProtocolError('Connection aborted.', RemoteDisconnected('Remote end closed connection without response'))': /packages/4c/64/a1e6e92b850b39200c82e3bc54d556b2c634b3904c39ac5cdb10b1c5765f/scikit_learn-1.2.2-cp311-cp311-manylinux_2_17_x86_64.manylinux2014_x86_64.whl\u001b[0m\u001b[33m\n",
            "\u001b[2K   \u001b[90m━━━━━━━━━━━━━━━━━━━━━━━━━━━━━━━━━━━━━━━━\u001b[0m \u001b[32m9.6/9.6 MB\u001b[0m \u001b[31m78.2 MB/s\u001b[0m eta \u001b[36m0:00:00\u001b[0m\n",
            "\u001b[2K   \u001b[90m━━━━━━━━━━━━━━━━━━━━━━━━━━━━━━━━━━━━━━━━\u001b[0m \u001b[32m294.8/294.8 kB\u001b[0m \u001b[31m21.0 MB/s\u001b[0m eta \u001b[36m0:00:00\u001b[0m\n",
            "\u001b[2K   \u001b[90m━━━━━━━━━━━━━━━━━━━━━━━━━━━━━━━━━━━━━━━━\u001b[0m \u001b[32m11.6/11.6 MB\u001b[0m \u001b[31m78.9 MB/s\u001b[0m eta \u001b[36m0:00:00\u001b[0m\n",
            "\u001b[2K   \u001b[90m━━━━━━━━━━━━━━━━━━━━━━━━━━━━━━━━━━━━━━━━\u001b[0m \u001b[32m18.2/18.2 MB\u001b[0m \u001b[31m48.6 MB/s\u001b[0m eta \u001b[36m0:00:00\u001b[0m\n",
            "\u001b[2K   \u001b[90m━━━━━━━━━━━━━━━━━━━━━━━━━━━━━━━━━━━━━━━━\u001b[0m \u001b[32m12.2/12.2 MB\u001b[0m \u001b[31m74.0 MB/s\u001b[0m eta \u001b[36m0:00:00\u001b[0m\n",
            "\u001b[2K   \u001b[90m━━━━━━━━━━━━━━━━━━━━━━━━━━━━━━━━━━━━━━━━\u001b[0m \u001b[32m226.0/226.0 kB\u001b[0m \u001b[31m19.3 MB/s\u001b[0m eta \u001b[36m0:00:00\u001b[0m\n",
            "\u001b[2K   \u001b[90m━━━━━━━━━━━━━━━━━━━━━━━━━━━━━━━━━━━━━━━━\u001b[0m \u001b[32m1.7/1.7 MB\u001b[0m \u001b[31m48.2 MB/s\u001b[0m eta \u001b[36m0:00:00\u001b[0m\n",
            "\u001b[2K   \u001b[90m━━━━━━━━━━━━━━━━━━━━━━━━━━━━━━━━━━━━━━━━\u001b[0m \u001b[32m1.0/1.0 MB\u001b[0m \u001b[31m47.3 MB/s\u001b[0m eta \u001b[36m0:00:00\u001b[0m\n",
            "\u001b[2K   \u001b[90m━━━━━━━━━━━━━━━━━━━━━━━━━━━━━━━━━━━━━━━━\u001b[0m \u001b[32m5.5/5.5 MB\u001b[0m \u001b[31m78.9 MB/s\u001b[0m eta \u001b[36m0:00:00\u001b[0m\n",
            "\u001b[2K   \u001b[90m━━━━━━━━━━━━━━━━━━━━━━━━━━━━━━━━━━━━━━━━\u001b[0m \u001b[32m442.0/442.0 kB\u001b[0m \u001b[31m26.3 MB/s\u001b[0m eta \u001b[36m0:00:00\u001b[0m\n",
            "\u001b[2K   \u001b[90m━━━━━━━━━━━━━━━━━━━━━━━━━━━━━━━━━━━━━━━━\u001b[0m \u001b[32m78.4/78.4 kB\u001b[0m \u001b[31m7.4 MB/s\u001b[0m eta \u001b[36m0:00:00\u001b[0m\n",
            "\u001b[?25h\u001b[33m  WARNING: The scripts f2py, f2py3 and f2py3.11 are installed in '/root/.local/bin' which is not on PATH.\n",
            "  Consider adding this directory to PATH or, if you prefer to suppress this warning, use --no-warn-script-location.\u001b[0m\u001b[33m\n",
            "\u001b[0m\u001b[33m  WARNING: The script tensorboard is installed in '/root/.local/bin' which is not on PATH.\n",
            "  Consider adding this directory to PATH or, if you prefer to suppress this warning, use --no-warn-script-location.\u001b[0m\u001b[33m\n",
            "\u001b[0m\u001b[33m  WARNING: The scripts estimator_ckpt_converter, import_pb_to_tensorboard, saved_model_cli, tensorboard, tf_upgrade_v2, tflite_convert, toco and toco_from_protos are installed in '/root/.local/bin' which is not on PATH.\n",
            "  Consider adding this directory to PATH or, if you prefer to suppress this warning, use --no-warn-script-location.\u001b[0m\u001b[33m\n",
            "\u001b[0m\u001b[31mERROR: pip's dependency resolver does not currently take into account all the packages that are installed. This behaviour is the source of the following dependency conflicts.\n",
            "google-colab 1.0.0 requires pandas==2.2.2, but you have pandas 2.0.3 which is incompatible.\n",
            "tensorflow-text 2.18.1 requires tensorflow<2.19,>=2.18.0, but you have tensorflow 2.15.0 which is incompatible.\n",
            "mlxtend 0.23.4 requires scikit-learn>=1.3.1, but you have scikit-learn 1.2.2 which is incompatible.\n",
            "plotnine 0.14.5 requires matplotlib>=3.8.0, but you have matplotlib 3.7.1 which is incompatible.\n",
            "plotnine 0.14.5 requires pandas>=2.2.0, but you have pandas 2.0.3 which is incompatible.\n",
            "tensorstore 0.1.71 requires ml_dtypes>=0.3.1, but you have ml-dtypes 0.2.0 which is incompatible.\n",
            "mizani 0.13.1 requires pandas>=2.2.0, but you have pandas 2.0.3 which is incompatible.\n",
            "xarray 2025.1.1 requires pandas>=2.1, but you have pandas 2.0.3 which is incompatible.\n",
            "tf-keras 2.18.0 requires tensorflow<2.19,>=2.18, but you have tensorflow 2.15.0 which is incompatible.\u001b[0m\u001b[31m\n",
            "\u001b[0m"
          ]
        }
      ],
      "source": [
        "# Installing the libraries with the specified version.\n",
        "!pip install tensorflow==2.15.0 scikit-learn==1.2.2 seaborn==0.13.1 matplotlib==3.7.1 numpy==1.25.2 pandas==2.0.3 imbalanced-learn==0.10.1 -q --user"
      ]
    },
    {
      "cell_type": "markdown",
      "metadata": {
        "id": "sRowCcVjoIvv"
      },
      "source": [
        "**Note:** After running the above cell, please restart the notebook kernel/runtime (depending on whether you're using Jupyter Notebook or Google Colab) and then sequentially run all cells from the one below."
      ]
    },
    {
      "cell_type": "code",
      "execution_count": null,
      "metadata": {
        "id": "IfeZclzIHUNs"
      },
      "outputs": [],
      "source": [
        "# Libraries to help with reading and manipulating data\n",
        "import pandas as pd\n",
        "import numpy as np\n",
        "\n",
        "# libaries to help with data visualization\n",
        "import matplotlib.pyplot as plt\n",
        "import seaborn as sns\n",
        "\n",
        "# Library to split data\n",
        "from sklearn.model_selection import train_test_split\n",
        "\n",
        "# library to import to standardize the data\n",
        "from sklearn.preprocessing import StandardScaler, LabelEncoder\n",
        "\n",
        "# importing different functions to build models\n",
        "import tensorflow as tf\n",
        "from tensorflow import keras\n",
        "from keras import backend\n",
        "from keras.models import Sequential\n",
        "from keras.layers import Dense, Dropout\n",
        "\n",
        "# importing SMOTE\n",
        "from imblearn.over_sampling import SMOTE\n",
        "\n",
        "# importing metrics\n",
        "from sklearn.metrics import confusion_matrix,roc_curve,classification_report,recall_score\n",
        "\n",
        "import random\n",
        "\n",
        "# Library to avoid the warnings\n",
        "import warnings\n",
        "warnings.filterwarnings(\"ignore\")"
      ]
    },
    {
      "cell_type": "markdown",
      "metadata": {
        "id": "z7ubXtC8HUOA"
      },
      "source": [
        "## Loading the dataset"
      ]
    },
    {
      "cell_type": "code",
      "execution_count": null,
      "metadata": {
        "id": "xGZLJmZUdkPq",
        "colab": {
          "base_uri": "https://localhost:8080/"
        },
        "outputId": "05ca3dd7-f22a-4307-cc20-18935b732ce7"
      },
      "outputs": [
        {
          "output_type": "stream",
          "name": "stdout",
          "text": [
            "Mounted at /content/drive\n"
          ]
        }
      ],
      "source": [
        "# uncomment and run the following lines in case Colab is being used\n",
        "from google.colab import drive\n",
        "drive.mount('/content/drive')"
      ]
    },
    {
      "cell_type": "code",
      "execution_count": null,
      "metadata": {
        "id": "1QJLp3P3HUOC"
      },
      "outputs": [],
      "source": [
        "ds = pd.read_csv(\"/content/drive/MyDrive/Colab Notebooks/bank-1.csv\")   # complete the code to load the dataset"
      ]
    },
    {
      "cell_type": "code",
      "source": [
        "df = ds.copy()\n"
      ],
      "metadata": {
        "id": "H0nnsnpL6Weh"
      },
      "execution_count": 61,
      "outputs": []
    },
    {
      "cell_type": "markdown",
      "metadata": {
        "id": "ygzPHkE_Anaw"
      },
      "source": [
        "## Model Performance Improvement"
      ]
    },
    {
      "cell_type": "markdown",
      "metadata": {
        "id": "EcEiT7Vyc6Y0"
      },
      "source": [
        "### Neural Network with Adam Optimizer"
      ]
    },
    {
      "cell_type": "code",
      "execution_count": null,
      "metadata": {
        "id": "Du7tdC6fc6Y0"
      },
      "outputs": [],
      "source": [
        "backend.clear_session()\n",
        "#Fixing the seed for random number generators so that we can ensure we receive the same output everytime\n",
        "np.random.seed(2)\n",
        "random.seed(2)\n",
        "tf.random.set_seed(2)"
      ]
    },
    {
      "cell_type": "code",
      "execution_count": null,
      "metadata": {
        "id": "36b7peUubI1q"
      },
      "outputs": [],
      "source": [
        "#Initializing the neural network\n",
        "model_1 = Sequential()\n",
        "#Complete the code to add a input layer (specify the # of neurons and activation function)\n",
        "model_1.add(Dense(___,activation='___',input_dim = X_train.shape[1]))\n",
        "#Complete the code to add a hidden layer (specify the # of neurons and activation function)\n",
        "model_1.add(Dense(___,activation='___'))\n",
        "#Complete the code to add a output layer with the required number of neurons and relu as activation function\n",
        "model_1.add(Dense(___, activation = 'sigmoid'))"
      ]
    },
    {
      "cell_type": "code",
      "execution_count": null,
      "metadata": {
        "id": "fTjQpDyCPrQU"
      },
      "outputs": [],
      "source": [
        "#Complete the code to use Adam as the optimizer.\n",
        "optimizer = tf.keras.optimizers.____()\n",
        "\n",
        "# uncomment one of the following lines to define the metric to be used\n",
        "# metric = 'accuracy'\n",
        "# metric = keras.metrics.Recall()\n",
        "# metric = keras.metrics.Precision()\n",
        "# metric = keras.metrics.F1Score()"
      ]
    },
    {
      "cell_type": "code",
      "execution_count": null,
      "metadata": {
        "id": "M2WjF_d2Ppw8"
      },
      "outputs": [],
      "source": [
        "# Complete the code to compile the model with binary cross entropy as loss function and recall as the metric\n",
        "model_1.compile(loss='___',optimizer=optimizer,metrics=[metric])"
      ]
    },
    {
      "cell_type": "code",
      "execution_count": null,
      "metadata": {
        "id": "xVs_I0EubWk-"
      },
      "outputs": [],
      "source": [
        "model_1.summary()"
      ]
    },
    {
      "cell_type": "code",
      "execution_count": null,
      "metadata": {
        "id": "8j4im_XibZs2",
        "scrolled": true
      },
      "outputs": [],
      "source": [
        "#Fitting the ANN\n",
        "history_1 = model_1.fit(\n",
        "    X_train,y_train,\n",
        "    batch_size=____, ## Complete the code to specify the batch size to use\n",
        "    validation_data=(X_val,y_val),\n",
        "    epochs=____, ## Complete the code to specify the number of epochs\n",
        "    verbose=1\n",
        ")"
      ]
    },
    {
      "cell_type": "markdown",
      "metadata": {
        "id": "2opcOp0lrBYK"
      },
      "source": [
        "**Loss function**"
      ]
    },
    {
      "cell_type": "code",
      "execution_count": null,
      "metadata": {
        "id": "IZcVD0PdbjFJ",
        "scrolled": true
      },
      "outputs": [],
      "source": [
        "#Plotting Train Loss vs Validation Loss\n",
        "plt.plot(history_1.history['loss'])\n",
        "plt.plot(history_1.history['val_loss'])\n",
        "plt.title('model loss')\n",
        "plt.ylabel('Loss')\n",
        "plt.xlabel('Epoch')\n",
        "plt.legend(['train', 'validation'], loc='upper left')\n",
        "plt.show()"
      ]
    },
    {
      "cell_type": "markdown",
      "metadata": {
        "id": "YHY5AVeCbzJg"
      },
      "source": [
        "**Recall**"
      ]
    },
    {
      "cell_type": "code",
      "execution_count": null,
      "metadata": {
        "id": "Rw9wplWKoDlt"
      },
      "outputs": [],
      "source": [
        "#Plotting Train recall vs Validation recall\n",
        "plt.plot(history_1.history['recall'])\n",
        "plt.plot(history_1.history['val_recall'])\n",
        "plt.title('model recall')\n",
        "plt.ylabel('Recall')\n",
        "plt.xlabel('Epoch')\n",
        "plt.legend(['train', 'validation'], loc='upper left')\n",
        "plt.show()"
      ]
    },
    {
      "cell_type": "code",
      "execution_count": null,
      "metadata": {
        "id": "fukpqiMgSwoH"
      },
      "outputs": [],
      "source": [
        "#Predicting the results using 0.5 as the threshold\n",
        "y_train_pred = model_1.predict(X_train)\n",
        "y_train_pred = (y_train_pred > 0.5)\n",
        "y_train_pred"
      ]
    },
    {
      "cell_type": "code",
      "execution_count": null,
      "metadata": {
        "id": "zE3vzi-LtwWa"
      },
      "outputs": [],
      "source": [
        "#Predicting the results using 0.5 as the threshold\n",
        "y_val_pred = model_1.predict(X_val)\n",
        "y_val_pred = (y_val_pred > 0.5)\n",
        "y_val_pred"
      ]
    },
    {
      "cell_type": "code",
      "execution_count": null,
      "metadata": {
        "id": "NnWQQMLLK_bS"
      },
      "outputs": [],
      "source": [
        "model_name = \"NN with Adam\"\n",
        "\n",
        "train_metric_df.loc[model_name] = recall_score(y_train,y_train_pred)\n",
        "valid_metric_df.loc[model_name] = recall_score(y_val,y_val_pred)"
      ]
    },
    {
      "cell_type": "markdown",
      "metadata": {
        "id": "tR7Z2n2sUw5m"
      },
      "source": [
        "**Classification report**"
      ]
    },
    {
      "cell_type": "code",
      "execution_count": null,
      "metadata": {
        "id": "AR3CrGxLTBBU"
      },
      "outputs": [],
      "source": [
        "#lassification report\n",
        "cr=classification_report(y_train,y_train_pred)\n",
        "print(cr)"
      ]
    },
    {
      "cell_type": "code",
      "execution_count": null,
      "metadata": {
        "id": "KGW7G6s2c6Y2"
      },
      "outputs": [],
      "source": [
        "#classification report\n",
        "cr=classification_report(____,____)  ## Complete the code to check the model's performance on the validation set\n",
        "print(cr)"
      ]
    },
    {
      "cell_type": "markdown",
      "metadata": {
        "id": "YEYayn_Mb_fM"
      },
      "source": [
        "**Confusion matrix**"
      ]
    },
    {
      "cell_type": "code",
      "execution_count": null,
      "metadata": {
        "id": "SU4lh3eLTHFf"
      },
      "outputs": [],
      "source": [
        "#Calculating the confusion matrix\n",
        "make_confusion_matrix(y_train, y_train_pred)"
      ]
    },
    {
      "cell_type": "code",
      "execution_count": null,
      "metadata": {
        "id": "Md-l0_EEcEHY"
      },
      "outputs": [],
      "source": [
        "#Calculating the confusion matrix\n",
        "make_confusion_matrix(____,____)  ## Complete the code to check the model's performance on the validation set"
      ]
    },
    {
      "cell_type": "markdown",
      "metadata": {
        "id": "xwJ_FTNfU7ci"
      },
      "source": [
        "### Neural Network with Adam Optimizer and Dropout"
      ]
    },
    {
      "cell_type": "code",
      "execution_count": null,
      "metadata": {
        "id": "hepmJoHGc6Y2"
      },
      "outputs": [],
      "source": [
        "backend.clear_session()\n",
        "#Fixing the seed for random number generators so that we can ensure we receive the same output everytime\n",
        "np.random.seed(2)\n",
        "random.seed(2)\n",
        "tf.random.set_seed(2)"
      ]
    },
    {
      "cell_type": "code",
      "execution_count": null,
      "metadata": {
        "id": "oXYhXhIec6Y2"
      },
      "outputs": [],
      "source": [
        "#Initializing the neural network\n",
        "model_2 = Sequential()\n",
        "#Adding the input layer with 32 neurons and relu as activation function\n",
        "model_2.add(Dense(32,activation='relu',input_dim = X_train.shape[1]))\n",
        "# Complete the code to add dropout with ratio of 0.2 or any suitable value.\n",
        "model_2.add(Dropout(___))\n",
        "# Complete the code to add a hidden layer (specify the # of neurons and the activation function)\n",
        "model_2.add(Dense(____,activation='____'))\n",
        "# Complete the code to add a hidden layer (specify the # of neurons and the activation function)\n",
        "model_2.add(Dense(____,activation='____'))\n",
        "# Complete the code to add dropout with ratio of 0.1 or any suitable value.\n",
        "model_2.add(Dropout(___))\n",
        "# Complete the code to add a hidden layer (specify the # of neurons and the activation function)\n",
        "model_2.add(Dense(____,activation='____'))\n",
        "# Complete the code to add the number of neurons required in the output layer.\n",
        "model_2.add(Dense(_____, activation = '____'))"
      ]
    },
    {
      "cell_type": "code",
      "execution_count": null,
      "metadata": {
        "id": "PmAnz3zqXRws"
      },
      "outputs": [],
      "source": [
        "#Complete the code to use Adam as the optimizer.\n",
        "optimizer = tf.keras.optimizers.____()\n",
        "\n",
        "# uncomment one of the following lines to define the metric to be used\n",
        "# metric = 'accuracy'\n",
        "# metric = keras.metrics.Recall()\n",
        "# metric = keras.metrics.Precision()\n",
        "# metric = keras.metrics.F1Score()"
      ]
    },
    {
      "cell_type": "code",
      "execution_count": null,
      "metadata": {
        "id": "uI_-pD8_XVDu"
      },
      "outputs": [],
      "source": [
        "## Complete the code to compile the model with binary cross entropy as loss function and recall as the metric.\n",
        "model_2.compile(loss='_____',optimizer=optimizer,metrics=[metric])"
      ]
    },
    {
      "cell_type": "code",
      "execution_count": null,
      "metadata": {
        "id": "R33JPU3Wc6Y2"
      },
      "outputs": [],
      "source": [
        "# Summary of the model\n",
        "model_2.summary()"
      ]
    },
    {
      "cell_type": "code",
      "execution_count": null,
      "metadata": {
        "id": "JxFT1CkPc6Y2",
        "scrolled": true
      },
      "outputs": [],
      "source": [
        "#Fitting the ANN with batch_size = 32 and 100 epochs\n",
        "history_2 = model_2.fit(\n",
        "    X_train,y_train,'\n",
        "    batch_size=____,  ##Complete the code to specify the batch size.\n",
        "    epochs=____, ##Complete the code to specify the # of epochs.\n",
        "    verbose=1,\n",
        "    validation_data=(X_val,y_val)\n",
        ")"
      ]
    },
    {
      "cell_type": "markdown",
      "metadata": {
        "id": "SMg-yqR1Y7sD"
      },
      "source": [
        "**Loss function**"
      ]
    },
    {
      "cell_type": "code",
      "execution_count": null,
      "metadata": {
        "id": "a_snhdHfc6Y3"
      },
      "outputs": [],
      "source": [
        "#Plotting Train Loss vs Validation Loss\n",
        "plt.plot(history_2.history['loss'])\n",
        "plt.plot(history_2.history['val_loss'])\n",
        "plt.title('model loss')\n",
        "plt.ylabel('Loss')\n",
        "plt.xlabel('Epoch')\n",
        "plt.legend(['train', 'validation'], loc='upper left')\n",
        "plt.show()"
      ]
    },
    {
      "cell_type": "markdown",
      "metadata": {
        "id": "kw9vGWmTc6Y3"
      },
      "source": [
        "From the above plot, we can observe that the train and validation curves are having smooth lines. Reducing the number of neurons and adding dropouts to the model worked, and the problem of overfitting was solved."
      ]
    },
    {
      "cell_type": "code",
      "execution_count": null,
      "metadata": {
        "id": "-Qe2IAEJTmoa"
      },
      "outputs": [],
      "source": [
        "#Plotting Train recall vs Validation recall\n",
        "plt.plot(history_2.history['recall'])\n",
        "plt.plot(history_2.history['val_recall'])\n",
        "plt.title('model recall')\n",
        "plt.ylabel('recall')\n",
        "plt.xlabel('Epoch')\n",
        "plt.legend(['train', 'validation'], loc='upper left')\n",
        "plt.show()"
      ]
    },
    {
      "cell_type": "code",
      "execution_count": null,
      "metadata": {
        "id": "q08qHZXITw8l"
      },
      "outputs": [],
      "source": [
        "#Predicting the results using best as a threshold\n",
        "y_train_pred = model_2.predict(X_train)\n",
        "y_train_pred = (y_train_pred > 0.5)\n",
        "y_train_pred"
      ]
    },
    {
      "cell_type": "code",
      "execution_count": null,
      "metadata": {
        "id": "StDmXPBRc6Y3"
      },
      "outputs": [],
      "source": [
        "#Predicting the results using 0.5 as the threshold.\n",
        "y_val_pred = model_2.predict(X_val)\n",
        "y_val_pred = (y_val_pred > 0.5)\n",
        "y_val_pred"
      ]
    },
    {
      "cell_type": "code",
      "execution_count": null,
      "metadata": {
        "id": "Jb7zqgcjLi-d"
      },
      "outputs": [],
      "source": [
        "model_name = \"NN with Adam & Dropout\"\n",
        "\n",
        "train_metric_df.loc[model_name] = recall_score(y_train,y_train_pred)\n",
        "valid_metric_df.loc[model_name] = recall_score(y_val,y_val_pred)"
      ]
    },
    {
      "cell_type": "markdown",
      "metadata": {
        "id": "4_EPhHQTZJLH"
      },
      "source": [
        "**Classification report**"
      ]
    },
    {
      "cell_type": "code",
      "execution_count": null,
      "metadata": {
        "id": "v8Y-4jCyT_Ra"
      },
      "outputs": [],
      "source": [
        "#classification report\n",
        "cr=classification_report(y_train,y_train_pred)\n",
        "print(cr)"
      ]
    },
    {
      "cell_type": "code",
      "execution_count": null,
      "metadata": {
        "id": "GsaMbvwnc6Y3"
      },
      "outputs": [],
      "source": [
        "#classification report\n",
        "cr = classification_report(____,____) ## Complete the code to check the model's performance on the validation set\n",
        "print(cr)"
      ]
    },
    {
      "cell_type": "markdown",
      "metadata": {
        "id": "8QVuR-atZMxh"
      },
      "source": [
        "**Confusion matrix**"
      ]
    },
    {
      "cell_type": "code",
      "execution_count": null,
      "metadata": {
        "id": "d-OiI5i8UEMX"
      },
      "outputs": [],
      "source": [
        "#Calculating the confusion matrix\n",
        "make_confusion_matrix(y_train, y_train_pred)"
      ]
    },
    {
      "cell_type": "code",
      "execution_count": null,
      "metadata": {
        "id": "UoSge6xUc6Y3"
      },
      "outputs": [],
      "source": [
        "#Calculating the confusion matrix\n",
        "make_confusion_matrix(____,____)  ## Complete the code to check the model's performance on the validation set"
      ]
    },
    {
      "cell_type": "markdown",
      "metadata": {
        "id": "1AFKraebbFFV"
      },
      "source": [
        "### Neural Network with Balanced Data (by applying SMOTE) and SGD Optimizer"
      ]
    },
    {
      "cell_type": "markdown",
      "metadata": {
        "id": "76LzW0xQODsm"
      },
      "source": [
        "**Let's try to apply SMOTE to balance this dataset and then again apply hyperparamter tuning accordingly.**"
      ]
    },
    {
      "cell_type": "code",
      "execution_count": null,
      "metadata": {
        "id": "UaCHzSGvqQNY"
      },
      "outputs": [],
      "source": [
        "sm  = SMOTE(random_state=42)\n",
        "#Complete the code to fit SMOTE on the training data.\n",
        "X_train_smote, y_train_smote= sm.fit_resample(___,___)\n",
        "print('After UpSampling, the shape of train_X: {}'.format(X_train_smote.shape))\n",
        "print('After UpSampling, the shape of train_y: {} \\n'.format(y_train_smote.shape))"
      ]
    },
    {
      "cell_type": "markdown",
      "metadata": {
        "id": "RBQRXPaQrfN1"
      },
      "source": [
        "Let's build a model with the balanced dataset"
      ]
    },
    {
      "cell_type": "code",
      "execution_count": null,
      "metadata": {
        "id": "RBFMnlwsc6Y7"
      },
      "outputs": [],
      "source": [
        "backend.clear_session()\n",
        "#Fixing the seed for random number generators so that we can ensure we receive the same output everytime\n",
        "np.random.seed(2)\n",
        "random.seed(2)\n",
        "tf.random.set_seed(2)"
      ]
    },
    {
      "cell_type": "code",
      "execution_count": null,
      "metadata": {
        "id": "QCBmYTJ6rmoL",
        "scrolled": true
      },
      "outputs": [],
      "source": [
        "#Initializing the model\n",
        "model_3 = Sequential()\n",
        "#Complete the code to add a input layer (specify the # of neurons and activation function)\n",
        "model_3.add(Dense(___,activation='____',input_dim = X_train_smote.shape[1]))\n",
        "#Complete the code to add a hidden layer (specify the # of neurons and activation function)\n",
        "model_3.add(Dense(16,activation='____'))\n",
        "#Complete the code to add a hidden layer (specify the # of neurons and activation function)\n",
        "model_3.add(Dense(___,activation='____'))\n",
        "# Complete the code to add the required number of neurons in the output layer with a sigmoid activation function.\n",
        "model_3.add(Dense(___, activation = '___'))"
      ]
    },
    {
      "cell_type": "code",
      "execution_count": null,
      "metadata": {
        "id": "iKiOJpw-aUVb"
      },
      "outputs": [],
      "source": [
        "#Complete the code to use SGD as the optimizer.\n",
        "optimizer = tf.keras.optimizers.____(0.001)\n",
        "\n",
        "# uncomment one of the following lines to define the metric to be used\n",
        "# metric = 'accuracy'\n",
        "# metric = keras.metrics.Recall()\n",
        "# metric = keras.metrics.Precision()\n",
        "# metric = keras.metrics.F1Score()"
      ]
    },
    {
      "cell_type": "code",
      "execution_count": null,
      "metadata": {
        "id": "ne3-sGZWaY1J"
      },
      "outputs": [],
      "source": [
        "# Complete the code to compile the model with binary cross entropy as loss function and recall as the metric\n",
        "model_3.compile(loss='___',optimizer=optimizer,metrics=[metric])"
      ]
    },
    {
      "cell_type": "code",
      "execution_count": null,
      "metadata": {
        "id": "2x98-PIwgiLN"
      },
      "outputs": [],
      "source": [
        "model_3.summary()"
      ]
    },
    {
      "cell_type": "code",
      "execution_count": null,
      "metadata": {
        "id": "lbKU-WUic6Y8",
        "scrolled": true
      },
      "outputs": [],
      "source": [
        "#Fitting the ANN\n",
        "history_3 = model_3.fit(\n",
        "    X_train_smote, y_train_smote,\n",
        "    batch_size=____, ## Complete the code to specify the batch size to use\n",
        "    epochs=____, ## Complete the code to specify the number of epochs\n",
        "    verbose=1,\n",
        "    validation_data = (X_val,y_val)\n",
        ")"
      ]
    },
    {
      "cell_type": "markdown",
      "metadata": {
        "id": "wiYwfXwHbSLs"
      },
      "source": [
        "**Loss function**"
      ]
    },
    {
      "cell_type": "code",
      "execution_count": null,
      "metadata": {
        "id": "IXyLsusWjgJi"
      },
      "outputs": [],
      "source": [
        "#Plotting Train Loss vs Validation Loss\n",
        "plt.plot(history_3.history['loss'])\n",
        "plt.plot(history_3.history['val_loss'])\n",
        "plt.title('model loss')\n",
        "plt.ylabel('Loss')\n",
        "plt.xlabel('Epoch')\n",
        "plt.legend(['train', 'validation'], loc='upper left')\n",
        "plt.show()"
      ]
    },
    {
      "cell_type": "code",
      "execution_count": null,
      "metadata": {
        "id": "SbLB9raaVNaB"
      },
      "outputs": [],
      "source": [
        "#Plotting Train recall vs Validation recall\n",
        "plt.plot(history_3.history['recall'])\n",
        "plt.plot(history_3.history['val_recall'])\n",
        "plt.title('model recall')\n",
        "plt.ylabel('Loss')\n",
        "plt.xlabel('Epoch')\n",
        "plt.legend(['train', 'validation'], loc='upper left')\n",
        "plt.show()"
      ]
    },
    {
      "cell_type": "code",
      "execution_count": null,
      "metadata": {
        "id": "Se0zSvJMVTza"
      },
      "outputs": [],
      "source": [
        "y_train_pred = model_3.predict(X_train_smote)\n",
        "#Predicting the results using 0.5 as the threshold\n",
        "y_train_pred = (y_train_pred > 0.5)\n",
        "y_train_pred"
      ]
    },
    {
      "cell_type": "code",
      "execution_count": null,
      "metadata": {
        "id": "09NXOv5usSVj"
      },
      "outputs": [],
      "source": [
        "y_val_pred = model_3.predict(X_val)\n",
        "#Predicting the results using 0.5 as the threshold\n",
        "y_val_pred = (y_val_pred > 0.5)\n",
        "y_val_pred"
      ]
    },
    {
      "cell_type": "code",
      "execution_count": null,
      "metadata": {
        "id": "DJJIpkzSLt35"
      },
      "outputs": [],
      "source": [
        "model_name = \"NN with SMOTE & SGD\"\n",
        "\n",
        "train_metric_df.loc[model_name] = recall_score(y_train_smote,y_train_pred)\n",
        "valid_metric_df.loc[model_name] = recall_score(y_val,y_val_pred)"
      ]
    },
    {
      "cell_type": "markdown",
      "metadata": {
        "id": "oR6hbqKvbWfj"
      },
      "source": [
        "**Classification report**"
      ]
    },
    {
      "cell_type": "code",
      "execution_count": null,
      "metadata": {
        "id": "cbDilz47VfCn"
      },
      "outputs": [],
      "source": [
        "cr=classification_report(y_train_smote,y_train_pred)\n",
        "print(cr)"
      ]
    },
    {
      "cell_type": "code",
      "execution_count": null,
      "metadata": {
        "id": "UX3pGtousY5l"
      },
      "outputs": [],
      "source": [
        "cr=classification_report(____,____) ## Complete the code to check the model's performance on the validation set\n",
        "print(cr)"
      ]
    },
    {
      "cell_type": "markdown",
      "metadata": {
        "id": "OZXBp6eWbZWG"
      },
      "source": [
        "**Confusion matrix**"
      ]
    },
    {
      "cell_type": "code",
      "execution_count": null,
      "metadata": {
        "id": "FwuaTJCgVi4j"
      },
      "outputs": [],
      "source": [
        "#Calculating the confusion matrix\n",
        "make_confusion_matrix(y_train_smote, y_train_pred)"
      ]
    },
    {
      "cell_type": "code",
      "execution_count": null,
      "metadata": {
        "id": "MJemotBEsdUs"
      },
      "outputs": [],
      "source": [
        "#Calculating the confusion matrix\n",
        "\n",
        "make_confusion_matrix(____,____) ## Complete the code to check the model's performance on the validation set"
      ]
    },
    {
      "cell_type": "markdown",
      "metadata": {
        "id": "BfhJCb0v16sR"
      },
      "source": [
        "### Neural Network with Balanced Data (by applying SMOTE) and Adam Optimizer"
      ]
    },
    {
      "cell_type": "markdown",
      "metadata": {
        "id": "lILy8V7m16sa"
      },
      "source": [
        "Let's build a model with the balanced dataset"
      ]
    },
    {
      "cell_type": "code",
      "execution_count": null,
      "metadata": {
        "id": "J-TsWvEL16sa"
      },
      "outputs": [],
      "source": [
        "backend.clear_session()\n",
        "#Fixing the seed for random number generators so that we can ensure we receive the same output everytime\n",
        "np.random.seed(2)\n",
        "random.seed(2)\n",
        "tf.random.set_seed(2)"
      ]
    },
    {
      "cell_type": "code",
      "execution_count": null,
      "metadata": {
        "id": "mF5XVyxO16sa",
        "scrolled": true
      },
      "outputs": [],
      "source": [
        "#Initializing the model\n",
        "model_4 = Sequential()\n",
        "#Complete the code to add a input layer (specify the # of neurons and activation function)\n",
        "model_4.add(Dense(___,activation='___',input_dim = X_train_smote.shape[1]))\n",
        "#Complete the code to add a hidden layer (specify the # of neurons and activation function)\n",
        "model_4.add(Dense(____,activation='____'))\n",
        "#Complete the code to add a hidden layer (specify the # of neurons and activation function)\n",
        "model_4.add(Dense(___,activation='___'))\n",
        "# Complete the code to add the required number of neurons in the output layer and a suitable activation function.\n",
        "model_4.add(Dense(___, activation = '___'))"
      ]
    },
    {
      "cell_type": "code",
      "execution_count": null,
      "metadata": {
        "id": "4AfTASP616sb"
      },
      "outputs": [],
      "source": [
        "model_4.summary()"
      ]
    },
    {
      "cell_type": "code",
      "execution_count": null,
      "metadata": {
        "id": "_M7duKYpcjRT"
      },
      "outputs": [],
      "source": [
        "#Complete the code to use Adam as the optimizer.\n",
        "optimizer = tf.keras.optimizers.____()\n",
        "\n",
        "# uncomment one of the following lines to define the metric to be used\n",
        "# metric = 'accuracy'\n",
        "# metric = keras.metrics.Recall()\n",
        "# metric = keras.metrics.Precision()\n",
        "# metric = keras.metrics.F1Score()"
      ]
    },
    {
      "cell_type": "code",
      "execution_count": null,
      "metadata": {
        "id": "GIvpeNr-clYi"
      },
      "outputs": [],
      "source": [
        "# Complete the code to compile the model with binary cross entropy as loss function and recall as the metric\n",
        "model_4.compile(loss='___',optimizer=optimizer,metrics=[metric])"
      ]
    },
    {
      "cell_type": "code",
      "execution_count": null,
      "metadata": {
        "id": "S2zYKiQ2c2JL"
      },
      "outputs": [],
      "source": [
        "model_4.summary()"
      ]
    },
    {
      "cell_type": "code",
      "execution_count": null,
      "metadata": {
        "id": "8MNHx6Rj16sb",
        "scrolled": true
      },
      "outputs": [],
      "source": [
        "#Fitting the ANN\n",
        "\n",
        "history_4 = model_4.fit(\n",
        "    X_train_smote,y_train_smote,\n",
        "    batch_size=____, ## Complete the code to specify the batch size to use\n",
        "    epochs=____,  ## Complete the code to specify the number of epochs\n",
        "    verbose=1,\n",
        "    validation_data = (X_val,y_val)\n",
        ")"
      ]
    },
    {
      "cell_type": "markdown",
      "metadata": {
        "id": "7-F5Y__S16sb"
      },
      "source": [
        "**Loss function**"
      ]
    },
    {
      "cell_type": "code",
      "execution_count": null,
      "metadata": {
        "id": "EVUOMwSu16sb"
      },
      "outputs": [],
      "source": [
        "#Plotting Train Loss vs Validation Loss\n",
        "plt.plot(history_4.history['loss'])\n",
        "plt.plot(history_4.history['val_loss'])\n",
        "plt.title('model loss')\n",
        "plt.ylabel('Loss')\n",
        "plt.xlabel('Epoch')\n",
        "plt.legend(['train', 'validation'], loc='upper left')\n",
        "plt.show()"
      ]
    },
    {
      "cell_type": "code",
      "execution_count": null,
      "metadata": {
        "id": "aQm17WkxWIlB"
      },
      "outputs": [],
      "source": [
        "#Plotting Train recall vs Validation recall\n",
        "plt.plot(history_4.history['recall'])\n",
        "plt.plot(history_4.history['val_recall'])\n",
        "plt.title('model recall')\n",
        "plt.ylabel('Loss')\n",
        "plt.xlabel('Epoch')\n",
        "plt.legend(['train', 'validation'], loc='upper left')\n",
        "plt.show()"
      ]
    },
    {
      "cell_type": "code",
      "execution_count": null,
      "metadata": {
        "id": "5chbJmFsWSr4"
      },
      "outputs": [],
      "source": [
        "y_train_pred = model_4.predict(X_train_smote)\n",
        "#Predicting the results using 0.5 as the threshold\n",
        "y_train_pred = (y_train_pred > 0.5)\n",
        "y_train_pred"
      ]
    },
    {
      "cell_type": "code",
      "execution_count": null,
      "metadata": {
        "id": "kgJa_ioD16sb"
      },
      "outputs": [],
      "source": [
        "y_val_pred = model_4.predict(X_val)\n",
        "#Predicting the results using 0.5 as the threshold\n",
        "y_val_pred = (y_val_pred > 0.5)\n",
        "y_val_pred"
      ]
    },
    {
      "cell_type": "code",
      "execution_count": null,
      "metadata": {
        "id": "mw0tDc1cL3B3"
      },
      "outputs": [],
      "source": [
        "model_name = \"NN with SMOTE & Adam\"\n",
        "\n",
        "train_metric_df.loc[model_name] = recall_score(y_train_smote,y_train_pred)\n",
        "valid_metric_df.loc[model_name] = recall_score(y_val,y_val_pred)"
      ]
    },
    {
      "cell_type": "markdown",
      "metadata": {
        "id": "PGTeDxnT16sc"
      },
      "source": [
        "**Classification report**"
      ]
    },
    {
      "cell_type": "code",
      "execution_count": null,
      "metadata": {
        "id": "ZasyyABAWl_4"
      },
      "outputs": [],
      "source": [
        "cr=classification_report(y_train_smote,y_train_pred)\n",
        "print(cr)"
      ]
    },
    {
      "cell_type": "code",
      "execution_count": null,
      "metadata": {
        "id": "tJS1OUFj16sc"
      },
      "outputs": [],
      "source": [
        "cr=classification_report(____,____) ## Complete the code to check the model's performance on the validation set\n",
        "print(cr)"
      ]
    },
    {
      "cell_type": "markdown",
      "metadata": {
        "id": "W5P6fChl16sc"
      },
      "source": [
        "**Confusion matrix**"
      ]
    },
    {
      "cell_type": "code",
      "execution_count": null,
      "metadata": {
        "id": "ARDvA5MYWrAD"
      },
      "outputs": [],
      "source": [
        "#Calculating the confusion matrix\n",
        "make_confusion_matrix(y_train_smote, y_train_pred)"
      ]
    },
    {
      "cell_type": "code",
      "execution_count": null,
      "metadata": {
        "id": "F_e_ouoi16sc"
      },
      "outputs": [],
      "source": [
        "#Calculating the confusion matrix\n",
        "make_confusion_matrix(____,____)  ## Complete the code to check the model's performance on the validation set"
      ]
    },
    {
      "cell_type": "markdown",
      "metadata": {
        "id": "8v71_BRJ2Com"
      },
      "source": [
        "### Neural Network with Balanced Data (by applying SMOTE), Adam Optimizer, and Dropout"
      ]
    },
    {
      "cell_type": "code",
      "execution_count": null,
      "metadata": {
        "id": "TzoJ0gb82Coz"
      },
      "outputs": [],
      "source": [
        "backend.clear_session()\n",
        "#Fixing the seed for random number generators so that we can ensure we receive the same output everytime\n",
        "np.random.seed(2)\n",
        "random.seed(2)\n",
        "tf.random.set_seed(2)"
      ]
    },
    {
      "cell_type": "code",
      "execution_count": null,
      "metadata": {
        "id": "vpkkhRjy2Coz",
        "scrolled": true
      },
      "outputs": [],
      "source": [
        "#Initializing the model\n",
        "model_5 = Sequential()\n",
        "# Complete the code to add required # of neurons to the input layer with relu as activation function\n",
        "model_5.add(Dense(___,activation='___',input_dim = X_train_smote.shape[1]))\n",
        "#Complete the code to add dropout rate\n",
        "model_5.add(Dropout(___))\n",
        "# Complete the code to add required # neurons to the hidden layer with any activation function.\n",
        "model_5.add(Dense(___,activation='___'))\n",
        "# Complete the code to add dropout rate.\n",
        "model_5.add(Dropout(___))\n",
        "# Adding hidden layer with 8 neurons with relu as activation function\n",
        "model_5.add(Dense(8,activation='relu'))\n",
        "# Complete the code to add the required number of neurons in the output layer with a suitable activation function.\n",
        "model_5.add(Dense(___, activation = '___'))"
      ]
    },
    {
      "cell_type": "code",
      "execution_count": null,
      "metadata": {
        "id": "QvSaG0QkeSoH"
      },
      "outputs": [],
      "source": [
        "#Complete the code to use Adam as the optimizer.\n",
        "optimizer = tf.keras.optimizers.____()\n",
        "\n",
        "# uncomment one of the following lines to define the metric to be used\n",
        "# metric = 'accuracy'\n",
        "# metric = keras.metrics.Recall()\n",
        "# metric = keras.metrics.Precision()\n",
        "# metric = keras.metrics.F1Score()"
      ]
    },
    {
      "cell_type": "code",
      "execution_count": null,
      "metadata": {
        "id": "vOLsZmy2eW5A"
      },
      "outputs": [],
      "source": [
        "# Complete the code to compile the model with binary cross entropy as loss function and recall as the metric\n",
        "model_5.compile(loss='___',optimizer=optimizer,metrics=[metric])"
      ]
    },
    {
      "cell_type": "code",
      "execution_count": null,
      "metadata": {
        "id": "taGBe-_72Co0"
      },
      "outputs": [],
      "source": [
        "model_5.summary()"
      ]
    },
    {
      "cell_type": "code",
      "execution_count": null,
      "metadata": {
        "id": "pFvJdZJ12Co0",
        "scrolled": true
      },
      "outputs": [],
      "source": [
        "history_5 = model_5.fit(\n",
        "    X_train_smote,y_train_smote,\n",
        "    batch_size=___, ## Complete the code to specify the batch size to use\n",
        "    epochs=____, ## Complete the code to specify the number of epochs\n",
        "    verbose=1,\n",
        "    validation_data = (X_val,y_val))"
      ]
    },
    {
      "cell_type": "markdown",
      "metadata": {
        "id": "WePrnQXy2Co0"
      },
      "source": [
        "**Loss function**"
      ]
    },
    {
      "cell_type": "code",
      "execution_count": null,
      "metadata": {
        "id": "cn8E1cNr2Co0"
      },
      "outputs": [],
      "source": [
        "#Plotting Train Loss vs Validation Loss\n",
        "plt.plot(history_5.history['loss'])\n",
        "plt.plot(history_5.history['val_loss'])\n",
        "plt.title('model loss')\n",
        "plt.ylabel('Loss')\n",
        "plt.xlabel('Epoch')\n",
        "plt.legend(['train', 'validation'], loc='upper left')\n",
        "plt.show()"
      ]
    },
    {
      "cell_type": "code",
      "execution_count": null,
      "metadata": {
        "id": "Das0oy8GXB97"
      },
      "outputs": [],
      "source": [
        "#Plotting Train recall vs Validation recall\n",
        "plt.plot(history_5.history['recall'])\n",
        "plt.plot(history_5.history['val_recall'])\n",
        "plt.title('model recall')\n",
        "plt.ylabel('Loss')\n",
        "plt.xlabel('Epoch')\n",
        "plt.legend(['train', 'validation'], loc='upper left')\n",
        "plt.show()"
      ]
    },
    {
      "cell_type": "code",
      "execution_count": null,
      "metadata": {
        "id": "qJ51zo1_XJKN"
      },
      "outputs": [],
      "source": [
        "y_train_pred = model_5.predict(X_train_smote)\n",
        "#Predicting the results using 0.5 as the threshold\n",
        "y_train_pred = (y_train_pred > 0.5)\n",
        "y_train_pred"
      ]
    },
    {
      "cell_type": "code",
      "execution_count": null,
      "metadata": {
        "id": "P-PH6GWU2Co1"
      },
      "outputs": [],
      "source": [
        "y_val_pred = model_5.predict(X_val)\n",
        "#Predicting the results using 0.5 as the threshold\n",
        "y_val_pred = (y_val_pred > 0.5)\n",
        "y_val_pred"
      ]
    },
    {
      "cell_type": "code",
      "execution_count": null,
      "metadata": {
        "id": "2WCSbJ3LMFbD"
      },
      "outputs": [],
      "source": [
        "model_name = \"NN with SMOTE,Adam & Dropout\"\n",
        "\n",
        "train_metric_df.loc[model_name] = recall_score(y_train_smote,y_train_pred)\n",
        "valid_metric_df.loc[model_name] = recall_score(y_val,y_val_pred)"
      ]
    },
    {
      "cell_type": "markdown",
      "metadata": {
        "id": "KKjSSJAW2Co1"
      },
      "source": [
        "**Classification report**"
      ]
    },
    {
      "cell_type": "code",
      "execution_count": null,
      "metadata": {
        "id": "J0lM4kouXSfh"
      },
      "outputs": [],
      "source": [
        "cr=classification_report(y_train_smote,y_train_pred)\n",
        "print(cr)"
      ]
    },
    {
      "cell_type": "code",
      "execution_count": null,
      "metadata": {
        "id": "uE6fhiYW2Co1"
      },
      "outputs": [],
      "source": [
        "#classification report\n",
        "cr=classification_report(____,____)  ## Complete the code to check the model's performance on the validation set\n",
        "print(cr)"
      ]
    },
    {
      "cell_type": "markdown",
      "metadata": {
        "id": "mwsprLr32Co1"
      },
      "source": [
        "**Confusion matrix**"
      ]
    },
    {
      "cell_type": "code",
      "execution_count": null,
      "metadata": {
        "id": "Jh61OQ4bXWga"
      },
      "outputs": [],
      "source": [
        "#Calculating the confusion matrix\n",
        "make_confusion_matrix(y_train_smote, y_train_pred)"
      ]
    },
    {
      "cell_type": "code",
      "execution_count": null,
      "metadata": {
        "id": "zh66OtCH2Co1"
      },
      "outputs": [],
      "source": [
        "#Calculating the confusion matrix\n",
        "make_confusion_matrix(____,____)  ## Complete the code to check the model's performance on the validation set"
      ]
    },
    {
      "cell_type": "code",
      "source": [
        "df['Exited'].value_counts(1)"
      ],
      "metadata": {
        "id": "nlKzjTOW6qOZ",
        "outputId": "dcca6b7e-d0f8-4ee0-8451-60f5fda60690",
        "colab": {
          "base_uri": "https://localhost:8080/",
          "height": 178
        }
      },
      "execution_count": 62,
      "outputs": [
        {
          "output_type": "execute_result",
          "data": {
            "text/plain": [
              "Exited\n",
              "0    0.7963\n",
              "1    0.2037\n",
              "Name: proportion, dtype: float64"
            ],
            "text/html": [
              "<div>\n",
              "<style scoped>\n",
              "    .dataframe tbody tr th:only-of-type {\n",
              "        vertical-align: middle;\n",
              "    }\n",
              "\n",
              "    .dataframe tbody tr th {\n",
              "        vertical-align: top;\n",
              "    }\n",
              "\n",
              "    .dataframe thead th {\n",
              "        text-align: right;\n",
              "    }\n",
              "</style>\n",
              "<table border=\"1\" class=\"dataframe\">\n",
              "  <thead>\n",
              "    <tr style=\"text-align: right;\">\n",
              "      <th></th>\n",
              "      <th>proportion</th>\n",
              "    </tr>\n",
              "    <tr>\n",
              "      <th>Exited</th>\n",
              "      <th></th>\n",
              "    </tr>\n",
              "  </thead>\n",
              "  <tbody>\n",
              "    <tr>\n",
              "      <th>0</th>\n",
              "      <td>0.7963</td>\n",
              "    </tr>\n",
              "    <tr>\n",
              "      <th>1</th>\n",
              "      <td>0.2037</td>\n",
              "    </tr>\n",
              "  </tbody>\n",
              "</table>\n",
              "</div><br><label><b>dtype:</b> float64</label>"
            ]
          },
          "metadata": {},
          "execution_count": 62
        }
      ]
    },
    {
      "cell_type": "code",
      "source": [
        "# Dropping \"RowNumber\", \"CustomerId\", & \"Surname\" columns beacuse they are unnecessary information for analysis.\n",
        "df = df.drop(['RowNumber', 'CustomerId', 'Surname'], axis=1)"
      ],
      "metadata": {
        "id": "JYvp9A9v6tip"
      },
      "execution_count": 63,
      "outputs": []
    },
    {
      "cell_type": "code",
      "source": [
        "# Creating a list with column labels that need to be converted from \"object\" to \"category\" data type.\n",
        "cat_cols = [\n",
        "    'Geography',\n",
        "    'Gender'\n",
        "]\n",
        "\n",
        "# Converting the columns with \"object\" data type to \"category\" data type.\n",
        "df[cat_cols] = df[cat_cols].astype('category')"
      ],
      "metadata": {
        "id": "58qnz02e6x3R"
      },
      "execution_count": 64,
      "outputs": []
    },
    {
      "cell_type": "code",
      "source": [
        "# Creating the independent variable data frame.\n",
        "X = df.drop(['Exited'], axis=1)\n",
        "# Creating the dependent variable data frame.\n",
        "y = df[['Exited']]"
      ],
      "metadata": {
        "id": "K3W33mNh6zBJ"
      },
      "execution_count": 66,
      "outputs": []
    },
    {
      "cell_type": "code",
      "source": [
        "# Splitting data into training and temp data frames.\n",
        "X_train, X_temp, y_train, y_temp = train_test_split(X, y, test_size=0.3, random_state=1, stratify=y)"
      ],
      "metadata": {
        "id": "BJq7vD2D6_Jo"
      },
      "execution_count": 67,
      "outputs": []
    },
    {
      "cell_type": "code",
      "source": [
        "#Splitting temp data frame into validation and test data frames.\n",
        "X_val, X_test, y_val, y_test = train_test_split(X_temp, y_temp, test_size=0.4, random_state=1, stratify=y_temp)"
      ],
      "metadata": {
        "id": "jxwdiJ9n7CSK"
      },
      "execution_count": 68,
      "outputs": []
    },
    {
      "cell_type": "code",
      "source": [
        "# Printing the size of the Training, Validation, and Test data frames.\n",
        "print(\"*\"*40)\n",
        "print(\"Shape of Training Set : \", X_train.shape)\n",
        "print(\"Shape of Validation Set\", X_val.shape)\n",
        "print(\"Shape of Test Set : \", X_test.shape)\n",
        "print(\"*\"*40)\n",
        "print(\"Percentage of classes in training set:\")\n",
        "print(y_train.value_counts(normalize=True))\n",
        "print(\"*\"*40)\n",
        "print(\"Percentage of classes in validation set:\")\n",
        "print(y_val.value_counts(normalize=True))\n",
        "print(\"*\"*40)\n",
        "print(\"Percentage of classes in test set:\")\n",
        "print(y_test.value_counts(normalize=True))\n",
        "print(\"*\"*40)"
      ],
      "metadata": {
        "id": "XDmH5QE_7G0h",
        "outputId": "081bdaac-b44f-4c5e-e4d5-4aebf77dfa42",
        "colab": {
          "base_uri": "https://localhost:8080/"
        }
      },
      "execution_count": 69,
      "outputs": [
        {
          "output_type": "stream",
          "name": "stdout",
          "text": [
            "****************************************\n",
            "Shape of Training Set :  (7000, 10)\n",
            "Shape of Validation Set (1800, 10)\n",
            "Shape of Test Set :  (1200, 10)\n",
            "****************************************\n",
            "Percentage of classes in training set:\n",
            "Exited\n",
            "0         0.796286\n",
            "1         0.203714\n",
            "Name: proportion, dtype: float64\n",
            "****************************************\n",
            "Percentage of classes in validation set:\n",
            "Exited\n",
            "0         0.796111\n",
            "1         0.203889\n",
            "Name: proportion, dtype: float64\n",
            "****************************************\n",
            "Percentage of classes in test set:\n",
            "Exited\n",
            "0         0.796667\n",
            "1         0.203333\n",
            "Name: proportion, dtype: float64\n",
            "****************************************\n"
          ]
        }
      ]
    },
    {
      "cell_type": "code",
      "source": [
        "# Encoding categorical variables for use in models.\n",
        "# Dropping first of each encoded column to reduce data frame size.\n",
        "\n",
        "# Encoding X_train data frame categorical columns.\n",
        "X_train = pd.get_dummies(X_train, columns=cat_cols, drop_first=True)\n",
        "# Encoding X_val data frame categorical columns.\n",
        "X_val = pd.get_dummies(X_val, columns=cat_cols, drop_first=True)\n",
        "# Encoding X_test data frame categorical columns.\n",
        "X_test = pd.get_dummies(X_test, columns=cat_cols, drop_first=True)"
      ],
      "metadata": {
        "id": "OGuOI8zU7IJr"
      },
      "execution_count": 70,
      "outputs": []
    },
    {
      "cell_type": "code",
      "source": [
        "# Printing shape of new data frames.\n",
        "print(\"Shape of X_train:\", X_train.shape)\n",
        "print(\"Shape of X_val:\", X_val.shape)\n",
        "print(\"Shape of X_test:\", X_test.shape)\n"
      ],
      "metadata": {
        "id": "9-fcoPJg7KbR",
        "outputId": "bd6e9396-75d1-4a7c-fb1a-29e2c73d9bcd",
        "colab": {
          "base_uri": "https://localhost:8080/"
        }
      },
      "execution_count": 71,
      "outputs": [
        {
          "output_type": "stream",
          "name": "stdout",
          "text": [
            "Shape of X_train: (7000, 11)\n",
            "Shape of X_val: (1800, 11)\n",
            "Shape of X_test: (1200, 11)\n"
          ]
        }
      ]
    },
    {
      "cell_type": "code",
      "source": [
        "# Printing shape of new data frames.\n",
        "print(\"Shape of y_train:\", y_train.shape)\n",
        "print(\"Shape of y_val:\", y_val.shape)\n",
        "print(\"Shape of y_test:\", y_test.shape)"
      ],
      "metadata": {
        "id": "uLS9CDsd7NLS",
        "outputId": "269cf628-61c4-46b7-c780-74d860c716a2",
        "colab": {
          "base_uri": "https://localhost:8080/"
        }
      },
      "execution_count": 72,
      "outputs": [
        {
          "output_type": "stream",
          "name": "stdout",
          "text": [
            "Shape of y_train: (7000, 1)\n",
            "Shape of y_val: (1800, 1)\n",
            "Shape of y_test: (1200, 1)\n"
          ]
        }
      ]
    },
    {
      "cell_type": "code",
      "source": [
        "# Scaling numerical data of independent variables using StandardScaler()\n",
        "sc=StandardScaler()\n",
        "temp = sc.fit(X_train[[\"CreditScore\",\"Age\",\"Tenure\",\"Balance\",\"EstimatedSalary\"]])\n",
        "X_train[[\"CreditScore\",\"Age\",\"Tenure\",\"Balance\",\"EstimatedSalary\"]] = temp.transform(X_train[[\"CreditScore\",\"Age\",\"Tenure\",\"Balance\",\"EstimatedSalary\"]])\n",
        "X_test[[\"CreditScore\",\"Age\",\"Tenure\",\"Balance\",\"EstimatedSalary\"]] = temp.transform(X_test[[\"CreditScore\",\"Age\",\"Tenure\",\"Balance\",\"EstimatedSalary\"]])\n",
        "X_val[[\"CreditScore\",\"Age\",\"Tenure\",\"Balance\",\"EstimatedSalary\"]] = temp.transform(X_val[[\"CreditScore\",\"Age\",\"Tenure\",\"Balance\",\"EstimatedSalary\"]])"
      ],
      "metadata": {
        "id": "RyyKBDSJ7T9q"
      },
      "execution_count": 73,
      "outputs": []
    },
    {
      "cell_type": "code",
      "source": [
        "def make_confusion_matrix(cf,\n",
        "                          group_names=None,\n",
        "                          categories='auto',\n",
        "                          count=True,\n",
        "                          percent=True,\n",
        "                          cbar=True,\n",
        "                          xyticks=True,\n",
        "                          xyplotlabels=True,\n",
        "                          sum_stats=True,\n",
        "                          figsize=None,\n",
        "                          cmap='Blues',\n",
        "                          title=None):\n",
        "    '''\n",
        "    This function will make a pretty plot of an sklearn Confusion Matrix cm using a Seaborn heatmap visualization.\n",
        "    Arguments\n",
        "    '''\n",
        "\n",
        "\n",
        "    # CODE TO GENERATE TEXT INSIDE EACH SQUARE\n",
        "    blanks = ['' for i in range(cf.size)]\n",
        "\n",
        "    if group_names and len(group_names)==cf.size:\n",
        "        group_labels = [\"{}\\n\".format(value) for value in group_names]\n",
        "    else:\n",
        "        group_labels = blanks\n",
        "\n",
        "    if count:\n",
        "        group_counts = [\"{0:0.0f}\\n\".format(value) for value in cf.flatten()]\n",
        "    else:\n",
        "        group_counts = blanks\n",
        "\n",
        "    if percent:\n",
        "        group_percentages = [\"{0:.2%}\".format(value) for value in cf.flatten()/np.sum(cf)]\n",
        "    else:\n",
        "        group_percentages = blanks\n",
        "\n",
        "    box_labels = [f\"{v1}{v2}{v3}\".strip() for v1, v2, v3 in zip(group_labels,group_counts,group_percentages)]\n",
        "    box_labels = np.asarray(box_labels).reshape(cf.shape[0],cf.shape[1])\n",
        "\n",
        "\n",
        "    # CODE TO GENERATE SUMMARY STATISTICS & TEXT FOR SUMMARY STATS\n",
        "    if sum_stats:\n",
        "        #Accuracy is sum of diagonal divided by total observations\n",
        "        accuracy  = np.trace(cf) / float(np.sum(cf))\n",
        "\n",
        "        #if it is a binary confusion matrix, show some more stats\n",
        "        if len(cf)==2:\n",
        "            #Metrics for Binary Confusion Matrices\n",
        "            precision = cf[1,1] / sum(cf[:,1])\n",
        "            recall    = cf[1,1] / sum(cf[1,:])\n",
        "            f1_score  = 2*precision*recall / (precision + recall)\n",
        "            stats_text = \"\\n\\nAccuracy={:0.3f}\\nPrecision={:0.3f}\\nRecall={:0.3f}\\nF1 Score={:0.3f}\".format(\n",
        "                accuracy,precision,recall,f1_score)\n",
        "        else:\n",
        "            stats_text = \"\\n\\nAccuracy={:0.3f}\".format(accuracy)\n",
        "    else:\n",
        "        stats_text = \"\"\n",
        "\n",
        "\n",
        "    # SET FIGURE PARAMETERS ACCORDING TO OTHER ARGUMENTS\n",
        "    if figsize==None:\n",
        "        #Get default figure size if not set\n",
        "        figsize = plt.rcParams.get('figure.figsize')\n",
        "\n",
        "    if xyticks==False:\n",
        "        #Do not show categories if xyticks is False\n",
        "        categories=False\n",
        "\n",
        "\n",
        "    # MAKE THE HEATMAP VISUALIZATION\n",
        "    plt.figure(figsize=figsize)\n",
        "    sns.heatmap(cf,annot=box_labels,fmt=\"\",cmap=cmap,cbar=cbar,xticklabels=categories,yticklabels=categories)\n",
        "\n",
        "    if xyplotlabels:\n",
        "        plt.ylabel('True label')\n",
        "        plt.xlabel('Predicted label' + stats_text)\n",
        "    else:\n",
        "        plt.xlabel(stats_text)\n",
        "\n",
        "    if title:\n",
        "        plt.title(title)"
      ],
      "metadata": {
        "id": "tDepf_1M7XVJ"
      },
      "execution_count": 74,
      "outputs": []
    },
    {
      "cell_type": "code",
      "source": [
        "# Clearing backend to help avoid clutter from old models and layers, and clear up memory.\n",
        "backend.clear_session()\n",
        "# Fixing the seed for random number generators so that we can ensure we receive the same output everytime.\n",
        "np.random.seed(13)\n",
        "import random\n",
        "random.seed(13)\n",
        "tf.random.set_seed(13)"
      ],
      "metadata": {
        "id": "VLP2Op0p7YnL"
      },
      "execution_count": 75,
      "outputs": []
    },
    {
      "cell_type": "markdown",
      "source": [
        "SGD OPTIMIZER\n"
      ],
      "metadata": {
        "id": "RjC7EZ3E8O3j"
      }
    },
    {
      "cell_type": "code",
      "source": [
        "# Creating a sequential model.\n",
        "model = Sequential()\n",
        "# Adding the hidden and output layers.\n",
        "model.add(Dense(activation=\"relu\", input_dim=X_train.shape[1], units=64))\n",
        "model.add(Dense(32, activation=\"relu\"))\n",
        "model.add(Dense(1, activation= 'sigmoid'))"
      ],
      "metadata": {
        "id": "XUu_GohB7bCg"
      },
      "execution_count": 76,
      "outputs": []
    },
    {
      "cell_type": "code",
      "source": [
        "# Compiling the model with SGD optimizer and binary cross entropy loss function.\n",
        "model.compile(optimizer='SGD', loss='binary_crossentropy', metrics=['accuracy'])"
      ],
      "metadata": {
        "id": "jTEYSnDH7c58"
      },
      "execution_count": 77,
      "outputs": []
    },
    {
      "cell_type": "code",
      "source": [
        "# Checking the summary of the model.\n",
        "model.summary()\n"
      ],
      "metadata": {
        "id": "2R_wi32E7fTR",
        "outputId": "b1a4eaee-8a8c-4a19-a209-a2af116bfdc2",
        "colab": {
          "base_uri": "https://localhost:8080/",
          "height": 228
        }
      },
      "execution_count": 78,
      "outputs": [
        {
          "output_type": "display_data",
          "data": {
            "text/plain": [
              "\u001b[1mModel: \"sequential\"\u001b[0m\n"
            ],
            "text/html": [
              "<pre style=\"white-space:pre;overflow-x:auto;line-height:normal;font-family:Menlo,'DejaVu Sans Mono',consolas,'Courier New',monospace\"><span style=\"font-weight: bold\">Model: \"sequential\"</span>\n",
              "</pre>\n"
            ]
          },
          "metadata": {}
        },
        {
          "output_type": "display_data",
          "data": {
            "text/plain": [
              "┏━━━━━━━━━━━━━━━━━━━━━━━━━━━━━━━━━━━━━━┳━━━━━━━━━━━━━━━━━━━━━━━━━━━━━┳━━━━━━━━━━━━━━━━━┓\n",
              "┃\u001b[1m \u001b[0m\u001b[1mLayer (type)                        \u001b[0m\u001b[1m \u001b[0m┃\u001b[1m \u001b[0m\u001b[1mOutput Shape               \u001b[0m\u001b[1m \u001b[0m┃\u001b[1m \u001b[0m\u001b[1m        Param #\u001b[0m\u001b[1m \u001b[0m┃\n",
              "┡━━━━━━━━━━━━━━━━━━━━━━━━━━━━━━━━━━━━━━╇━━━━━━━━━━━━━━━━━━━━━━━━━━━━━╇━━━━━━━━━━━━━━━━━┩\n",
              "│ dense (\u001b[38;5;33mDense\u001b[0m)                        │ (\u001b[38;5;45mNone\u001b[0m, \u001b[38;5;34m64\u001b[0m)                  │             \u001b[38;5;34m768\u001b[0m │\n",
              "├──────────────────────────────────────┼─────────────────────────────┼─────────────────┤\n",
              "│ dense_1 (\u001b[38;5;33mDense\u001b[0m)                      │ (\u001b[38;5;45mNone\u001b[0m, \u001b[38;5;34m32\u001b[0m)                  │           \u001b[38;5;34m2,080\u001b[0m │\n",
              "├──────────────────────────────────────┼─────────────────────────────┼─────────────────┤\n",
              "│ dense_2 (\u001b[38;5;33mDense\u001b[0m)                      │ (\u001b[38;5;45mNone\u001b[0m, \u001b[38;5;34m1\u001b[0m)                   │              \u001b[38;5;34m33\u001b[0m │\n",
              "└──────────────────────────────────────┴─────────────────────────────┴─────────────────┘\n"
            ],
            "text/html": [
              "<pre style=\"white-space:pre;overflow-x:auto;line-height:normal;font-family:Menlo,'DejaVu Sans Mono',consolas,'Courier New',monospace\">┏━━━━━━━━━━━━━━━━━━━━━━━━━━━━━━━━━━━━━━┳━━━━━━━━━━━━━━━━━━━━━━━━━━━━━┳━━━━━━━━━━━━━━━━━┓\n",
              "┃<span style=\"font-weight: bold\"> Layer (type)                         </span>┃<span style=\"font-weight: bold\"> Output Shape                </span>┃<span style=\"font-weight: bold\">         Param # </span>┃\n",
              "┡━━━━━━━━━━━━━━━━━━━━━━━━━━━━━━━━━━━━━━╇━━━━━━━━━━━━━━━━━━━━━━━━━━━━━╇━━━━━━━━━━━━━━━━━┩\n",
              "│ dense (<span style=\"color: #0087ff; text-decoration-color: #0087ff\">Dense</span>)                        │ (<span style=\"color: #00d7ff; text-decoration-color: #00d7ff\">None</span>, <span style=\"color: #00af00; text-decoration-color: #00af00\">64</span>)                  │             <span style=\"color: #00af00; text-decoration-color: #00af00\">768</span> │\n",
              "├──────────────────────────────────────┼─────────────────────────────┼─────────────────┤\n",
              "│ dense_1 (<span style=\"color: #0087ff; text-decoration-color: #0087ff\">Dense</span>)                      │ (<span style=\"color: #00d7ff; text-decoration-color: #00d7ff\">None</span>, <span style=\"color: #00af00; text-decoration-color: #00af00\">32</span>)                  │           <span style=\"color: #00af00; text-decoration-color: #00af00\">2,080</span> │\n",
              "├──────────────────────────────────────┼─────────────────────────────┼─────────────────┤\n",
              "│ dense_2 (<span style=\"color: #0087ff; text-decoration-color: #0087ff\">Dense</span>)                      │ (<span style=\"color: #00d7ff; text-decoration-color: #00d7ff\">None</span>, <span style=\"color: #00af00; text-decoration-color: #00af00\">1</span>)                   │              <span style=\"color: #00af00; text-decoration-color: #00af00\">33</span> │\n",
              "└──────────────────────────────────────┴─────────────────────────────┴─────────────────┘\n",
              "</pre>\n"
            ]
          },
          "metadata": {}
        },
        {
          "output_type": "display_data",
          "data": {
            "text/plain": [
              "\u001b[1m Total params: \u001b[0m\u001b[38;5;34m2,881\u001b[0m (11.25 KB)\n"
            ],
            "text/html": [
              "<pre style=\"white-space:pre;overflow-x:auto;line-height:normal;font-family:Menlo,'DejaVu Sans Mono',consolas,'Courier New',monospace\"><span style=\"font-weight: bold\"> Total params: </span><span style=\"color: #00af00; text-decoration-color: #00af00\">2,881</span> (11.25 KB)\n",
              "</pre>\n"
            ]
          },
          "metadata": {}
        },
        {
          "output_type": "display_data",
          "data": {
            "text/plain": [
              "\u001b[1m Trainable params: \u001b[0m\u001b[38;5;34m2,881\u001b[0m (11.25 KB)\n"
            ],
            "text/html": [
              "<pre style=\"white-space:pre;overflow-x:auto;line-height:normal;font-family:Menlo,'DejaVu Sans Mono',consolas,'Courier New',monospace\"><span style=\"font-weight: bold\"> Trainable params: </span><span style=\"color: #00af00; text-decoration-color: #00af00\">2,881</span> (11.25 KB)\n",
              "</pre>\n"
            ]
          },
          "metadata": {}
        },
        {
          "output_type": "display_data",
          "data": {
            "text/plain": [
              "\u001b[1m Non-trainable params: \u001b[0m\u001b[38;5;34m0\u001b[0m (0.00 B)\n"
            ],
            "text/html": [
              "<pre style=\"white-space:pre;overflow-x:auto;line-height:normal;font-family:Menlo,'DejaVu Sans Mono',consolas,'Courier New',monospace\"><span style=\"font-weight: bold\"> Non-trainable params: </span><span style=\"color: #00af00; text-decoration-color: #00af00\">0</span> (0.00 B)\n",
              "</pre>\n"
            ]
          },
          "metadata": {}
        }
      ]
    },
    {
      "cell_type": "code",
      "source": [
        "# Fitting the model to training data and storing the results.\n",
        "history = model.fit(X_train,\n",
        "                  y_train,\n",
        "                  validation_data=(X_val, y_val),\n",
        "                  epochs=50,\n",
        "                  batch_size=32,\n",
        "                  verbose=1)\n",
        "print(\"*\" * 130)\n",
        "print(\"Model has been fit to training data.\")"
      ],
      "metadata": {
        "id": "eBWVQK1y7iRo",
        "outputId": "face6a82-c067-4141-bb53-c6ff53235957",
        "colab": {
          "base_uri": "https://localhost:8080/"
        }
      },
      "execution_count": 79,
      "outputs": [
        {
          "output_type": "stream",
          "name": "stdout",
          "text": [
            "Epoch 1/50\n",
            "\u001b[1m219/219\u001b[0m \u001b[32m━━━━━━━━━━━━━━━━━━━━\u001b[0m\u001b[37m\u001b[0m \u001b[1m4s\u001b[0m 11ms/step - accuracy: 0.7380 - loss: 0.5711 - val_accuracy: 0.7961 - val_loss: 0.4632\n",
            "Epoch 2/50\n",
            "\u001b[1m219/219\u001b[0m \u001b[32m━━━━━━━━━━━━━━━━━━━━\u001b[0m\u001b[37m\u001b[0m \u001b[1m1s\u001b[0m 3ms/step - accuracy: 0.7927 - loss: 0.4692 - val_accuracy: 0.7961 - val_loss: 0.4457\n",
            "Epoch 3/50\n",
            "\u001b[1m219/219\u001b[0m \u001b[32m━━━━━━━━━━━━━━━━━━━━\u001b[0m\u001b[37m\u001b[0m \u001b[1m1s\u001b[0m 3ms/step - accuracy: 0.7921 - loss: 0.4565 - val_accuracy: 0.7978 - val_loss: 0.4357\n",
            "Epoch 4/50\n",
            "\u001b[1m219/219\u001b[0m \u001b[32m━━━━━━━━━━━━━━━━━━━━\u001b[0m\u001b[37m\u001b[0m \u001b[1m1s\u001b[0m 4ms/step - accuracy: 0.7925 - loss: 0.4492 - val_accuracy: 0.7989 - val_loss: 0.4293\n",
            "Epoch 5/50\n",
            "\u001b[1m219/219\u001b[0m \u001b[32m━━━━━━━━━━━━━━━━━━━━\u001b[0m\u001b[37m\u001b[0m \u001b[1m1s\u001b[0m 3ms/step - accuracy: 0.7948 - loss: 0.4444 - val_accuracy: 0.8050 - val_loss: 0.4248\n",
            "Epoch 6/50\n",
            "\u001b[1m219/219\u001b[0m \u001b[32m━━━━━━━━━━━━━━━━━━━━\u001b[0m\u001b[37m\u001b[0m \u001b[1m1s\u001b[0m 4ms/step - accuracy: 0.7987 - loss: 0.4408 - val_accuracy: 0.8078 - val_loss: 0.4214\n",
            "Epoch 7/50\n",
            "\u001b[1m219/219\u001b[0m \u001b[32m━━━━━━━━━━━━━━━━━━━━\u001b[0m\u001b[37m\u001b[0m \u001b[1m1s\u001b[0m 4ms/step - accuracy: 0.8022 - loss: 0.4379 - val_accuracy: 0.8150 - val_loss: 0.4188\n",
            "Epoch 8/50\n",
            "\u001b[1m219/219\u001b[0m \u001b[32m━━━━━━━━━━━━━━━━━━━━\u001b[0m\u001b[37m\u001b[0m \u001b[1m1s\u001b[0m 5ms/step - accuracy: 0.8047 - loss: 0.4355 - val_accuracy: 0.8183 - val_loss: 0.4166\n",
            "Epoch 9/50\n",
            "\u001b[1m219/219\u001b[0m \u001b[32m━━━━━━━━━━━━━━━━━━━━\u001b[0m\u001b[37m\u001b[0m \u001b[1m1s\u001b[0m 4ms/step - accuracy: 0.8070 - loss: 0.4334 - val_accuracy: 0.8178 - val_loss: 0.4147\n",
            "Epoch 10/50\n",
            "\u001b[1m219/219\u001b[0m \u001b[32m━━━━━━━━━━━━━━━━━━━━\u001b[0m\u001b[37m\u001b[0m \u001b[1m1s\u001b[0m 3ms/step - accuracy: 0.8109 - loss: 0.4315 - val_accuracy: 0.8183 - val_loss: 0.4131\n",
            "Epoch 11/50\n",
            "\u001b[1m219/219\u001b[0m \u001b[32m━━━━━━━━━━━━━━━━━━━━\u001b[0m\u001b[37m\u001b[0m \u001b[1m1s\u001b[0m 3ms/step - accuracy: 0.8131 - loss: 0.4298 - val_accuracy: 0.8178 - val_loss: 0.4116\n",
            "Epoch 12/50\n",
            "\u001b[1m219/219\u001b[0m \u001b[32m━━━━━━━━━━━━━━━━━━━━\u001b[0m\u001b[37m\u001b[0m \u001b[1m1s\u001b[0m 3ms/step - accuracy: 0.8134 - loss: 0.4282 - val_accuracy: 0.8194 - val_loss: 0.4103\n",
            "Epoch 13/50\n",
            "\u001b[1m219/219\u001b[0m \u001b[32m━━━━━━━━━━━━━━━━━━━━\u001b[0m\u001b[37m\u001b[0m \u001b[1m1s\u001b[0m 3ms/step - accuracy: 0.8156 - loss: 0.4267 - val_accuracy: 0.8183 - val_loss: 0.4092\n",
            "Epoch 14/50\n",
            "\u001b[1m219/219\u001b[0m \u001b[32m━━━━━━━━━━━━━━━━━━━━\u001b[0m\u001b[37m\u001b[0m \u001b[1m1s\u001b[0m 3ms/step - accuracy: 0.8153 - loss: 0.4253 - val_accuracy: 0.8200 - val_loss: 0.4081\n",
            "Epoch 15/50\n",
            "\u001b[1m219/219\u001b[0m \u001b[32m━━━━━━━━━━━━━━━━━━━━\u001b[0m\u001b[37m\u001b[0m \u001b[1m1s\u001b[0m 3ms/step - accuracy: 0.8165 - loss: 0.4239 - val_accuracy: 0.8194 - val_loss: 0.4070\n",
            "Epoch 16/50\n",
            "\u001b[1m219/219\u001b[0m \u001b[32m━━━━━━━━━━━━━━━━━━━━\u001b[0m\u001b[37m\u001b[0m \u001b[1m1s\u001b[0m 3ms/step - accuracy: 0.8174 - loss: 0.4226 - val_accuracy: 0.8217 - val_loss: 0.4060\n",
            "Epoch 17/50\n",
            "\u001b[1m219/219\u001b[0m \u001b[32m━━━━━━━━━━━━━━━━━━━━\u001b[0m\u001b[37m\u001b[0m \u001b[1m1s\u001b[0m 3ms/step - accuracy: 0.8174 - loss: 0.4213 - val_accuracy: 0.8244 - val_loss: 0.4050\n",
            "Epoch 18/50\n",
            "\u001b[1m219/219\u001b[0m \u001b[32m━━━━━━━━━━━━━━━━━━━━\u001b[0m\u001b[37m\u001b[0m \u001b[1m1s\u001b[0m 3ms/step - accuracy: 0.8196 - loss: 0.4199 - val_accuracy: 0.8233 - val_loss: 0.4041\n",
            "Epoch 19/50\n",
            "\u001b[1m219/219\u001b[0m \u001b[32m━━━━━━━━━━━━━━━━━━━━\u001b[0m\u001b[37m\u001b[0m \u001b[1m2s\u001b[0m 4ms/step - accuracy: 0.8204 - loss: 0.4185 - val_accuracy: 0.8250 - val_loss: 0.4031\n",
            "Epoch 20/50\n",
            "\u001b[1m219/219\u001b[0m \u001b[32m━━━━━━━━━━━━━━━━━━━━\u001b[0m\u001b[37m\u001b[0m \u001b[1m1s\u001b[0m 5ms/step - accuracy: 0.8204 - loss: 0.4171 - val_accuracy: 0.8250 - val_loss: 0.4021\n",
            "Epoch 21/50\n",
            "\u001b[1m219/219\u001b[0m \u001b[32m━━━━━━━━━━━━━━━━━━━━\u001b[0m\u001b[37m\u001b[0m \u001b[1m2s\u001b[0m 8ms/step - accuracy: 0.8214 - loss: 0.4157 - val_accuracy: 0.8272 - val_loss: 0.4011\n",
            "Epoch 22/50\n",
            "\u001b[1m219/219\u001b[0m \u001b[32m━━━━━━━━━━━━━━━━━━━━\u001b[0m\u001b[37m\u001b[0m \u001b[1m2s\u001b[0m 6ms/step - accuracy: 0.8228 - loss: 0.4143 - val_accuracy: 0.8278 - val_loss: 0.4000\n",
            "Epoch 23/50\n",
            "\u001b[1m219/219\u001b[0m \u001b[32m━━━━━━━━━━━━━━━━━━━━\u001b[0m\u001b[37m\u001b[0m \u001b[1m1s\u001b[0m 3ms/step - accuracy: 0.8232 - loss: 0.4129 - val_accuracy: 0.8306 - val_loss: 0.3990\n",
            "Epoch 24/50\n",
            "\u001b[1m219/219\u001b[0m \u001b[32m━━━━━━━━━━━━━━━━━━━━\u001b[0m\u001b[37m\u001b[0m \u001b[1m1s\u001b[0m 3ms/step - accuracy: 0.8234 - loss: 0.4115 - val_accuracy: 0.8306 - val_loss: 0.3980\n",
            "Epoch 25/50\n",
            "\u001b[1m219/219\u001b[0m \u001b[32m━━━━━━━━━━━━━━━━━━━━\u001b[0m\u001b[37m\u001b[0m \u001b[1m1s\u001b[0m 3ms/step - accuracy: 0.8263 - loss: 0.4101 - val_accuracy: 0.8306 - val_loss: 0.3969\n",
            "Epoch 26/50\n",
            "\u001b[1m219/219\u001b[0m \u001b[32m━━━━━━━━━━━━━━━━━━━━\u001b[0m\u001b[37m\u001b[0m \u001b[1m1s\u001b[0m 3ms/step - accuracy: 0.8271 - loss: 0.4087 - val_accuracy: 0.8311 - val_loss: 0.3960\n",
            "Epoch 27/50\n",
            "\u001b[1m219/219\u001b[0m \u001b[32m━━━━━━━━━━━━━━━━━━━━\u001b[0m\u001b[37m\u001b[0m \u001b[1m1s\u001b[0m 3ms/step - accuracy: 0.8285 - loss: 0.4072 - val_accuracy: 0.8311 - val_loss: 0.3949\n",
            "Epoch 28/50\n",
            "\u001b[1m219/219\u001b[0m \u001b[32m━━━━━━━━━━━━━━━━━━━━\u001b[0m\u001b[37m\u001b[0m \u001b[1m1s\u001b[0m 3ms/step - accuracy: 0.8307 - loss: 0.4058 - val_accuracy: 0.8317 - val_loss: 0.3938\n",
            "Epoch 29/50\n",
            "\u001b[1m219/219\u001b[0m \u001b[32m━━━━━━━━━━━━━━━━━━━━\u001b[0m\u001b[37m\u001b[0m \u001b[1m1s\u001b[0m 3ms/step - accuracy: 0.8309 - loss: 0.4044 - val_accuracy: 0.8311 - val_loss: 0.3927\n",
            "Epoch 30/50\n",
            "\u001b[1m219/219\u001b[0m \u001b[32m━━━━━━━━━━━━━━━━━━━━\u001b[0m\u001b[37m\u001b[0m \u001b[1m1s\u001b[0m 3ms/step - accuracy: 0.8320 - loss: 0.4030 - val_accuracy: 0.8333 - val_loss: 0.3916\n",
            "Epoch 31/50\n",
            "\u001b[1m219/219\u001b[0m \u001b[32m━━━━━━━━━━━━━━━━━━━━\u001b[0m\u001b[37m\u001b[0m \u001b[1m1s\u001b[0m 3ms/step - accuracy: 0.8333 - loss: 0.4015 - val_accuracy: 0.8339 - val_loss: 0.3905\n",
            "Epoch 32/50\n",
            "\u001b[1m219/219\u001b[0m \u001b[32m━━━━━━━━━━━━━━━━━━━━\u001b[0m\u001b[37m\u001b[0m \u001b[1m1s\u001b[0m 4ms/step - accuracy: 0.8337 - loss: 0.4001 - val_accuracy: 0.8333 - val_loss: 0.3894\n",
            "Epoch 33/50\n",
            "\u001b[1m219/219\u001b[0m \u001b[32m━━━━━━━━━━━━━━━━━━━━\u001b[0m\u001b[37m\u001b[0m \u001b[1m1s\u001b[0m 4ms/step - accuracy: 0.8349 - loss: 0.3986 - val_accuracy: 0.8339 - val_loss: 0.3883\n",
            "Epoch 34/50\n",
            "\u001b[1m219/219\u001b[0m \u001b[32m━━━━━━━━━━━━━━━━━━━━\u001b[0m\u001b[37m\u001b[0m \u001b[1m1s\u001b[0m 4ms/step - accuracy: 0.8362 - loss: 0.3972 - val_accuracy: 0.8350 - val_loss: 0.3871\n",
            "Epoch 35/50\n",
            "\u001b[1m219/219\u001b[0m \u001b[32m━━━━━━━━━━━━━━━━━━━━\u001b[0m\u001b[37m\u001b[0m \u001b[1m1s\u001b[0m 4ms/step - accuracy: 0.8366 - loss: 0.3957 - val_accuracy: 0.8361 - val_loss: 0.3860\n",
            "Epoch 36/50\n",
            "\u001b[1m219/219\u001b[0m \u001b[32m━━━━━━━━━━━━━━━━━━━━\u001b[0m\u001b[37m\u001b[0m \u001b[1m1s\u001b[0m 3ms/step - accuracy: 0.8367 - loss: 0.3943 - val_accuracy: 0.8372 - val_loss: 0.3849\n",
            "Epoch 37/50\n",
            "\u001b[1m219/219\u001b[0m \u001b[32m━━━━━━━━━━━━━━━━━━━━\u001b[0m\u001b[37m\u001b[0m \u001b[1m1s\u001b[0m 3ms/step - accuracy: 0.8376 - loss: 0.3928 - val_accuracy: 0.8372 - val_loss: 0.3838\n",
            "Epoch 38/50\n",
            "\u001b[1m219/219\u001b[0m \u001b[32m━━━━━━━━━━━━━━━━━━━━\u001b[0m\u001b[37m\u001b[0m \u001b[1m1s\u001b[0m 4ms/step - accuracy: 0.8387 - loss: 0.3913 - val_accuracy: 0.8372 - val_loss: 0.3826\n",
            "Epoch 39/50\n",
            "\u001b[1m219/219\u001b[0m \u001b[32m━━━━━━━━━━━━━━━━━━━━\u001b[0m\u001b[37m\u001b[0m \u001b[1m1s\u001b[0m 3ms/step - accuracy: 0.8397 - loss: 0.3899 - val_accuracy: 0.8372 - val_loss: 0.3814\n",
            "Epoch 40/50\n",
            "\u001b[1m219/219\u001b[0m \u001b[32m━━━━━━━━━━━━━━━━━━━━\u001b[0m\u001b[37m\u001b[0m \u001b[1m1s\u001b[0m 4ms/step - accuracy: 0.8407 - loss: 0.3884 - val_accuracy: 0.8367 - val_loss: 0.3802\n",
            "Epoch 41/50\n",
            "\u001b[1m219/219\u001b[0m \u001b[32m━━━━━━━━━━━━━━━━━━━━\u001b[0m\u001b[37m\u001b[0m \u001b[1m1s\u001b[0m 5ms/step - accuracy: 0.8409 - loss: 0.3869 - val_accuracy: 0.8372 - val_loss: 0.3790\n",
            "Epoch 42/50\n",
            "\u001b[1m219/219\u001b[0m \u001b[32m━━━━━━━━━━━━━━━━━━━━\u001b[0m\u001b[37m\u001b[0m \u001b[1m1s\u001b[0m 5ms/step - accuracy: 0.8410 - loss: 0.3854 - val_accuracy: 0.8383 - val_loss: 0.3778\n",
            "Epoch 43/50\n",
            "\u001b[1m219/219\u001b[0m \u001b[32m━━━━━━━━━━━━━━━━━━━━\u001b[0m\u001b[37m\u001b[0m \u001b[1m1s\u001b[0m 5ms/step - accuracy: 0.8417 - loss: 0.3839 - val_accuracy: 0.8406 - val_loss: 0.3766\n",
            "Epoch 44/50\n",
            "\u001b[1m219/219\u001b[0m \u001b[32m━━━━━━━━━━━━━━━━━━━━\u001b[0m\u001b[37m\u001b[0m \u001b[1m1s\u001b[0m 5ms/step - accuracy: 0.8409 - loss: 0.3824 - val_accuracy: 0.8422 - val_loss: 0.3754\n",
            "Epoch 45/50\n",
            "\u001b[1m219/219\u001b[0m \u001b[32m━━━━━━━━━━━━━━━━━━━━\u001b[0m\u001b[37m\u001b[0m \u001b[1m2s\u001b[0m 9ms/step - accuracy: 0.8415 - loss: 0.3810 - val_accuracy: 0.8417 - val_loss: 0.3741\n",
            "Epoch 46/50\n",
            "\u001b[1m219/219\u001b[0m \u001b[32m━━━━━━━━━━━━━━━━━━━━\u001b[0m\u001b[37m\u001b[0m \u001b[1m2s\u001b[0m 6ms/step - accuracy: 0.8421 - loss: 0.3795 - val_accuracy: 0.8417 - val_loss: 0.3729\n",
            "Epoch 47/50\n",
            "\u001b[1m219/219\u001b[0m \u001b[32m━━━━━━━━━━━━━━━━━━━━\u001b[0m\u001b[37m\u001b[0m \u001b[1m2s\u001b[0m 3ms/step - accuracy: 0.8424 - loss: 0.3780 - val_accuracy: 0.8411 - val_loss: 0.3717\n",
            "Epoch 48/50\n",
            "\u001b[1m219/219\u001b[0m \u001b[32m━━━━━━━━━━━━━━━━━━━━\u001b[0m\u001b[37m\u001b[0m \u001b[1m1s\u001b[0m 3ms/step - accuracy: 0.8424 - loss: 0.3766 - val_accuracy: 0.8433 - val_loss: 0.3705\n",
            "Epoch 49/50\n",
            "\u001b[1m219/219\u001b[0m \u001b[32m━━━━━━━━━━━━━━━━━━━━\u001b[0m\u001b[37m\u001b[0m \u001b[1m1s\u001b[0m 3ms/step - accuracy: 0.8434 - loss: 0.3751 - val_accuracy: 0.8444 - val_loss: 0.3694\n",
            "Epoch 50/50\n",
            "\u001b[1m219/219\u001b[0m \u001b[32m━━━━━━━━━━━━━━━━━━━━\u001b[0m\u001b[37m\u001b[0m \u001b[1m1s\u001b[0m 3ms/step - accuracy: 0.8439 - loss: 0.3736 - val_accuracy: 0.8444 - val_loss: 0.3682\n",
            "**********************************************************************************************************************************\n",
            "Model has been fit to training data.\n"
          ]
        }
      ]
    },
    {
      "cell_type": "code",
      "source": [
        "# Plotting Train Loss vs Validation Loss.\n",
        "plt.plot(history.history['loss'])\n",
        "plt.plot(history.history['val_loss'])\n",
        "plt.title('model loss')\n",
        "plt.ylabel('Loss')\n",
        "plt.xlabel('Epoch')\n",
        "plt.legend(['train', 'validation'], loc='upper right')\n",
        "plt.show()\n",
        "\n",
        "# Printing results.\n",
        "results = model.evaluate(X_test, y_test)"
      ],
      "metadata": {
        "id": "4XIH8--S7tgB",
        "outputId": "a0d19317-0718-4411-bdd5-503b32ce6022",
        "colab": {
          "base_uri": "https://localhost:8080/",
          "height": 489
        }
      },
      "execution_count": 80,
      "outputs": [
        {
          "output_type": "display_data",
          "data": {
            "text/plain": [
              "<Figure size 640x480 with 1 Axes>"
            ],
            "image/png": "[encoded data removed]"
          },
          "metadata": {}
        },
        {
          "output_type": "stream",
          "name": "stdout",
          "text": [
            "\u001b[1m38/38\u001b[0m \u001b[32m━━━━━━━━━━━━━━━━━━━━\u001b[0m\u001b[37m\u001b[0m \u001b[1m0s\u001b[0m 8ms/step - accuracy: 0.8407 - loss: 0.4105\n"
          ]
        }
      ]
    },
    {
      "cell_type": "code",
      "source": [
        "# Predicting y using default threshold.\n",
        "y_pred = model.predict(X_val)\n",
        "y_pred = (y_pred > 0.5)\n",
        "y_pred"
      ],
      "metadata": {
        "id": "5BZ-HjkT7yZY",
        "outputId": "ebb4a013-cd29-4e22-b6da-662448b55c36",
        "colab": {
          "base_uri": "https://localhost:8080/"
        }
      },
      "execution_count": 81,
      "outputs": [
        {
          "output_type": "stream",
          "name": "stdout",
          "text": [
            "\u001b[1m57/57\u001b[0m \u001b[32m━━━━━━━━━━━━━━━━━━━━\u001b[0m\u001b[37m\u001b[0m \u001b[1m1s\u001b[0m 6ms/step\n"
          ]
        },
        {
          "output_type": "execute_result",
          "data": {
            "text/plain": [
              "array([[False],\n",
              "       [False],\n",
              "       [False],\n",
              "       ...,\n",
              "       [False],\n",
              "       [False],\n",
              "       [False]])"
            ]
          },
          "metadata": {},
          "execution_count": 81
        }
      ]
    },
    {
      "cell_type": "code",
      "source": [
        "# Calculating the confusion matrix.\n",
        "y_pred = (y_pred > 0.5)\n",
        "cm = confusion_matrix(y_val, y_pred)\n",
        "labels = ['True Negative','False Positive','False Negative','True Positive']\n",
        "categories = [ 'Not Exiting','Exiting']\n",
        "make_confusion_matrix(cm,\n",
        "                      group_names=labels,\n",
        "                      categories=categories,\n",
        "                      cmap='Blues')"
      ],
      "metadata": {
        "id": "0QJ-OkTY72xQ",
        "outputId": "0542f21d-675c-4710-b813-93c07b89ffde",
        "colab": {
          "base_uri": "https://localhost:8080/",
          "height": 530
        }
      },
      "execution_count": 82,
      "outputs": [
        {
          "output_type": "display_data",
          "data": {
            "text/plain": [
              "<Figure size 640x480 with 2 Axes>"
            ],
            "image/png": "[encoded data removed]"
          },
          "metadata": {}
        }
      ]
    },
    {
      "cell_type": "markdown",
      "source": [
        "ADAM OPTMIZER"
      ],
      "metadata": {
        "id": "Xyaxvmev8JZR"
      }
    },
    {
      "cell_type": "code",
      "source": [
        "# ADam optimizer\n",
        "# Clearing backend to help avoid clutter from old models and layers, and clear up memory.\n",
        "backend.clear_session()\n",
        "# Fixing the seed for random number generators so that we can ensure we receive the same output everytime.\n",
        "np.random.seed(13)\n",
        "import random\n",
        "random.seed(13)\n",
        "tf.random.set_seed(13)"
      ],
      "metadata": {
        "id": "CbRkDDlE74Sr"
      },
      "execution_count": 84,
      "outputs": []
    },
    {
      "cell_type": "code",
      "source": [
        "# Creating a sequential model.\n",
        "model1 = Sequential()\n",
        "# Adding the hidden and output layers.\n",
        "model1.add(Dense(64,activation='relu',input_dim = X_train.shape[1]))\n",
        "model1.add(Dense(32,activation='relu'))\n",
        "model1.add(Dense(1, activation = 'sigmoid'))"
      ],
      "metadata": {
        "id": "Fx4Nd9XL8HYC"
      },
      "execution_count": 85,
      "outputs": []
    },
    {
      "cell_type": "code",
      "source": [
        "# Compiling with Adam optimizer and binary cross entropy loss function.\n",
        "optimizer1 = tf.keras.optimizers.Adam(0.001)\n",
        "model1.compile(loss='binary_crossentropy',optimizer=optimizer1,metrics=['accuracy'])"
      ],
      "metadata": {
        "id": "5s5j0tX-8Sw5"
      },
      "execution_count": 86,
      "outputs": []
    },
    {
      "cell_type": "code",
      "source": [
        "# Checking the summary of the model.\n",
        "model1.summary()"
      ],
      "metadata": {
        "id": "7cH0JqQD8TjL",
        "outputId": "a325ff98-f78d-4750-9fb8-72946ec8e6ee",
        "colab": {
          "base_uri": "https://localhost:8080/",
          "height": 228
        }
      },
      "execution_count": 87,
      "outputs": [
        {
          "output_type": "display_data",
          "data": {
            "text/plain": [
              "\u001b[1mModel: \"sequential\"\u001b[0m\n"
            ],
            "text/html": [
              "<pre style=\"white-space:pre;overflow-x:auto;line-height:normal;font-family:Menlo,'DejaVu Sans Mono',consolas,'Courier New',monospace\"><span style=\"font-weight: bold\">Model: \"sequential\"</span>\n",
              "</pre>\n"
            ]
          },
          "metadata": {}
        },
        {
          "output_type": "display_data",
          "data": {
            "text/plain": [
              "┏━━━━━━━━━━━━━━━━━━━━━━━━━━━━━━━━━━━━━━┳━━━━━━━━━━━━━━━━━━━━━━━━━━━━━┳━━━━━━━━━━━━━━━━━┓\n",
              "┃\u001b[1m \u001b[0m\u001b[1mLayer (type)                        \u001b[0m\u001b[1m \u001b[0m┃\u001b[1m \u001b[0m\u001b[1mOutput Shape               \u001b[0m\u001b[1m \u001b[0m┃\u001b[1m \u001b[0m\u001b[1m        Param #\u001b[0m\u001b[1m \u001b[0m┃\n",
              "┡━━━━━━━━━━━━━━━━━━━━━━━━━━━━━━━━━━━━━━╇━━━━━━━━━━━━━━━━━━━━━━━━━━━━━╇━━━━━━━━━━━━━━━━━┩\n",
              "│ dense (\u001b[38;5;33mDense\u001b[0m)                        │ (\u001b[38;5;45mNone\u001b[0m, \u001b[38;5;34m64\u001b[0m)                  │             \u001b[38;5;34m768\u001b[0m │\n",
              "├──────────────────────────────────────┼─────────────────────────────┼─────────────────┤\n",
              "│ dense_1 (\u001b[38;5;33mDense\u001b[0m)                      │ (\u001b[38;5;45mNone\u001b[0m, \u001b[38;5;34m32\u001b[0m)                  │           \u001b[38;5;34m2,080\u001b[0m │\n",
              "├──────────────────────────────────────┼─────────────────────────────┼─────────────────┤\n",
              "│ dense_2 (\u001b[38;5;33mDense\u001b[0m)                      │ (\u001b[38;5;45mNone\u001b[0m, \u001b[38;5;34m1\u001b[0m)                   │              \u001b[38;5;34m33\u001b[0m │\n",
              "└──────────────────────────────────────┴─────────────────────────────┴─────────────────┘\n"
            ],
            "text/html": [
              "<pre style=\"white-space:pre;overflow-x:auto;line-height:normal;font-family:Menlo,'DejaVu Sans Mono',consolas,'Courier New',monospace\">┏━━━━━━━━━━━━━━━━━━━━━━━━━━━━━━━━━━━━━━┳━━━━━━━━━━━━━━━━━━━━━━━━━━━━━┳━━━━━━━━━━━━━━━━━┓\n",
              "┃<span style=\"font-weight: bold\"> Layer (type)                         </span>┃<span style=\"font-weight: bold\"> Output Shape                </span>┃<span style=\"font-weight: bold\">         Param # </span>┃\n",
              "┡━━━━━━━━━━━━━━━━━━━━━━━━━━━━━━━━━━━━━━╇━━━━━━━━━━━━━━━━━━━━━━━━━━━━━╇━━━━━━━━━━━━━━━━━┩\n",
              "│ dense (<span style=\"color: #0087ff; text-decoration-color: #0087ff\">Dense</span>)                        │ (<span style=\"color: #00d7ff; text-decoration-color: #00d7ff\">None</span>, <span style=\"color: #00af00; text-decoration-color: #00af00\">64</span>)                  │             <span style=\"color: #00af00; text-decoration-color: #00af00\">768</span> │\n",
              "├──────────────────────────────────────┼─────────────────────────────┼─────────────────┤\n",
              "│ dense_1 (<span style=\"color: #0087ff; text-decoration-color: #0087ff\">Dense</span>)                      │ (<span style=\"color: #00d7ff; text-decoration-color: #00d7ff\">None</span>, <span style=\"color: #00af00; text-decoration-color: #00af00\">32</span>)                  │           <span style=\"color: #00af00; text-decoration-color: #00af00\">2,080</span> │\n",
              "├──────────────────────────────────────┼─────────────────────────────┼─────────────────┤\n",
              "│ dense_2 (<span style=\"color: #0087ff; text-decoration-color: #0087ff\">Dense</span>)                      │ (<span style=\"color: #00d7ff; text-decoration-color: #00d7ff\">None</span>, <span style=\"color: #00af00; text-decoration-color: #00af00\">1</span>)                   │              <span style=\"color: #00af00; text-decoration-color: #00af00\">33</span> │\n",
              "└──────────────────────────────────────┴─────────────────────────────┴─────────────────┘\n",
              "</pre>\n"
            ]
          },
          "metadata": {}
        },
        {
          "output_type": "display_data",
          "data": {
            "text/plain": [
              "\u001b[1m Total params: \u001b[0m\u001b[38;5;34m2,881\u001b[0m (11.25 KB)\n"
            ],
            "text/html": [
              "<pre style=\"white-space:pre;overflow-x:auto;line-height:normal;font-family:Menlo,'DejaVu Sans Mono',consolas,'Courier New',monospace\"><span style=\"font-weight: bold\"> Total params: </span><span style=\"color: #00af00; text-decoration-color: #00af00\">2,881</span> (11.25 KB)\n",
              "</pre>\n"
            ]
          },
          "metadata": {}
        },
        {
          "output_type": "display_data",
          "data": {
            "text/plain": [
              "\u001b[1m Trainable params: \u001b[0m\u001b[38;5;34m2,881\u001b[0m (11.25 KB)\n"
            ],
            "text/html": [
              "<pre style=\"white-space:pre;overflow-x:auto;line-height:normal;font-family:Menlo,'DejaVu Sans Mono',consolas,'Courier New',monospace\"><span style=\"font-weight: bold\"> Trainable params: </span><span style=\"color: #00af00; text-decoration-color: #00af00\">2,881</span> (11.25 KB)\n",
              "</pre>\n"
            ]
          },
          "metadata": {}
        },
        {
          "output_type": "display_data",
          "data": {
            "text/plain": [
              "\u001b[1m Non-trainable params: \u001b[0m\u001b[38;5;34m0\u001b[0m (0.00 B)\n"
            ],
            "text/html": [
              "<pre style=\"white-space:pre;overflow-x:auto;line-height:normal;font-family:Menlo,'DejaVu Sans Mono',consolas,'Courier New',monospace\"><span style=\"font-weight: bold\"> Non-trainable params: </span><span style=\"color: #00af00; text-decoration-color: #00af00\">0</span> (0.00 B)\n",
              "</pre>\n"
            ]
          },
          "metadata": {}
        }
      ]
    },
    {
      "cell_type": "code",
      "source": [
        "# Fitting the model to training data and storing the results.\n",
        "history1 = model1.fit(X_train,\n",
        "                      y_train,\n",
        "                      batch_size=64,\n",
        "                      epochs=50,\n",
        "                      verbose=1,\n",
        "                      validation_data=(X_val, y_val))\n",
        "print(\"*\" * 130)\n",
        "print(\"Model has been fit to training data.\")"
      ],
      "metadata": {
        "id": "LQ4bXpyY8V2K",
        "outputId": "5f2fc43d-1683-4498-eaf9-bd05f0c6331b",
        "colab": {
          "base_uri": "https://localhost:8080/"
        }
      },
      "execution_count": 88,
      "outputs": [
        {
          "output_type": "stream",
          "name": "stdout",
          "text": [
            "Epoch 1/50\n",
            "\u001b[1m110/110\u001b[0m \u001b[32m━━━━━━━━━━━━━━━━━━━━\u001b[0m\u001b[37m\u001b[0m \u001b[1m5s\u001b[0m 24ms/step - accuracy: 0.7444 - loss: 0.5404 - val_accuracy: 0.8078 - val_loss: 0.4247\n",
            "Epoch 2/50\n",
            "\u001b[1m110/110\u001b[0m \u001b[32m━━━━━━━━━━━━━━━━━━━━\u001b[0m\u001b[37m\u001b[0m \u001b[1m2s\u001b[0m 4ms/step - accuracy: 0.8043 - loss: 0.4388 - val_accuracy: 0.8244 - val_loss: 0.4093\n",
            "Epoch 3/50\n",
            "\u001b[1m110/110\u001b[0m \u001b[32m━━━━━━━━━━━━━━━━━━━━\u001b[0m\u001b[37m\u001b[0m \u001b[1m1s\u001b[0m 7ms/step - accuracy: 0.8149 - loss: 0.4252 - val_accuracy: 0.8344 - val_loss: 0.4001\n",
            "Epoch 4/50\n",
            "\u001b[1m110/110\u001b[0m \u001b[32m━━━━━━━━━━━━━━━━━━━━\u001b[0m\u001b[37m\u001b[0m \u001b[1m1s\u001b[0m 7ms/step - accuracy: 0.8257 - loss: 0.4144 - val_accuracy: 0.8394 - val_loss: 0.3921\n",
            "Epoch 5/50\n",
            "\u001b[1m110/110\u001b[0m \u001b[32m━━━━━━━━━━━━━━━━━━━━\u001b[0m\u001b[37m\u001b[0m \u001b[1m1s\u001b[0m 11ms/step - accuracy: 0.8318 - loss: 0.4042 - val_accuracy: 0.8400 - val_loss: 0.3847\n",
            "Epoch 6/50\n",
            "\u001b[1m110/110\u001b[0m \u001b[32m━━━━━━━━━━━━━━━━━━━━\u001b[0m\u001b[37m\u001b[0m \u001b[1m2s\u001b[0m 7ms/step - accuracy: 0.8393 - loss: 0.3944 - val_accuracy: 0.8456 - val_loss: 0.3774\n",
            "Epoch 7/50\n",
            "\u001b[1m110/110\u001b[0m \u001b[32m━━━━━━━━━━━━━━━━━━━━\u001b[0m\u001b[37m\u001b[0m \u001b[1m1s\u001b[0m 6ms/step - accuracy: 0.8384 - loss: 0.3851 - val_accuracy: 0.8467 - val_loss: 0.3702\n",
            "Epoch 8/50\n",
            "\u001b[1m110/110\u001b[0m \u001b[32m━━━━━━━━━━━━━━━━━━━━\u001b[0m\u001b[37m\u001b[0m \u001b[1m1s\u001b[0m 8ms/step - accuracy: 0.8424 - loss: 0.3765 - val_accuracy: 0.8494 - val_loss: 0.3642\n",
            "Epoch 9/50\n",
            "\u001b[1m110/110\u001b[0m \u001b[32m━━━━━━━━━━━━━━━━━━━━\u001b[0m\u001b[37m\u001b[0m \u001b[1m1s\u001b[0m 8ms/step - accuracy: 0.8467 - loss: 0.3686 - val_accuracy: 0.8528 - val_loss: 0.3592\n",
            "Epoch 10/50\n",
            "\u001b[1m110/110\u001b[0m \u001b[32m━━━━━━━━━━━━━━━━━━━━\u001b[0m\u001b[37m\u001b[0m \u001b[1m1s\u001b[0m 5ms/step - accuracy: 0.8502 - loss: 0.3618 - val_accuracy: 0.8556 - val_loss: 0.3549\n",
            "Epoch 11/50\n",
            "\u001b[1m110/110\u001b[0m \u001b[32m━━━━━━━━━━━━━━━━━━━━\u001b[0m\u001b[37m\u001b[0m \u001b[1m2s\u001b[0m 9ms/step - accuracy: 0.8512 - loss: 0.3561 - val_accuracy: 0.8567 - val_loss: 0.3520\n",
            "Epoch 12/50\n",
            "\u001b[1m110/110\u001b[0m \u001b[32m━━━━━━━━━━━━━━━━━━━━\u001b[0m\u001b[37m\u001b[0m \u001b[1m1s\u001b[0m 8ms/step - accuracy: 0.8534 - loss: 0.3515 - val_accuracy: 0.8594 - val_loss: 0.3498\n",
            "Epoch 13/50\n",
            "\u001b[1m110/110\u001b[0m \u001b[32m━━━━━━━━━━━━━━━━━━━━\u001b[0m\u001b[37m\u001b[0m \u001b[1m1s\u001b[0m 7ms/step - accuracy: 0.8561 - loss: 0.3475 - val_accuracy: 0.8600 - val_loss: 0.3479\n",
            "Epoch 14/50\n",
            "\u001b[1m110/110\u001b[0m \u001b[32m━━━━━━━━━━━━━━━━━━━━\u001b[0m\u001b[37m\u001b[0m \u001b[1m1s\u001b[0m 10ms/step - accuracy: 0.8566 - loss: 0.3442 - val_accuracy: 0.8611 - val_loss: 0.3463\n",
            "Epoch 15/50\n",
            "\u001b[1m110/110\u001b[0m \u001b[32m━━━━━━━━━━━━━━━━━━━━\u001b[0m\u001b[37m\u001b[0m \u001b[1m1s\u001b[0m 5ms/step - accuracy: 0.8582 - loss: 0.3413 - val_accuracy: 0.8633 - val_loss: 0.3452\n",
            "Epoch 16/50\n",
            "\u001b[1m110/110\u001b[0m \u001b[32m━━━━━━━━━━━━━━━━━━━━\u001b[0m\u001b[37m\u001b[0m \u001b[1m1s\u001b[0m 3ms/step - accuracy: 0.8583 - loss: 0.3388 - val_accuracy: 0.8628 - val_loss: 0.3443\n",
            "Epoch 17/50\n",
            "\u001b[1m110/110\u001b[0m \u001b[32m━━━━━━━━━━━━━━━━━━━━\u001b[0m\u001b[37m\u001b[0m \u001b[1m1s\u001b[0m 3ms/step - accuracy: 0.8591 - loss: 0.3366 - val_accuracy: 0.8633 - val_loss: 0.3435\n",
            "Epoch 18/50\n",
            "\u001b[1m110/110\u001b[0m \u001b[32m━━━━━━━━━━━━━━━━━━━━\u001b[0m\u001b[37m\u001b[0m \u001b[1m0s\u001b[0m 4ms/step - accuracy: 0.8600 - loss: 0.3348 - val_accuracy: 0.8622 - val_loss: 0.3431\n",
            "Epoch 19/50\n",
            "\u001b[1m110/110\u001b[0m \u001b[32m━━━━━━━━━━━━━━━━━━━━\u001b[0m\u001b[37m\u001b[0m \u001b[1m1s\u001b[0m 3ms/step - accuracy: 0.8601 - loss: 0.3331 - val_accuracy: 0.8617 - val_loss: 0.3425\n",
            "Epoch 20/50\n",
            "\u001b[1m110/110\u001b[0m \u001b[32m━━━━━━━━━━━━━━━━━━━━\u001b[0m\u001b[37m\u001b[0m \u001b[1m0s\u001b[0m 3ms/step - accuracy: 0.8607 - loss: 0.3317 - val_accuracy: 0.8633 - val_loss: 0.3421\n",
            "Epoch 21/50\n",
            "\u001b[1m110/110\u001b[0m \u001b[32m━━━━━━━━━━━━━━━━━━━━\u001b[0m\u001b[37m\u001b[0m \u001b[1m0s\u001b[0m 4ms/step - accuracy: 0.8600 - loss: 0.3304 - val_accuracy: 0.8622 - val_loss: 0.3417\n",
            "Epoch 22/50\n",
            "\u001b[1m110/110\u001b[0m \u001b[32m━━━━━━━━━━━━━━━━━━━━\u001b[0m\u001b[37m\u001b[0m \u001b[1m0s\u001b[0m 4ms/step - accuracy: 0.8603 - loss: 0.3292 - val_accuracy: 0.8617 - val_loss: 0.3415\n",
            "Epoch 23/50\n",
            "\u001b[1m110/110\u001b[0m \u001b[32m━━━━━━━━━━━━━━━━━━━━\u001b[0m\u001b[37m\u001b[0m \u001b[1m0s\u001b[0m 4ms/step - accuracy: 0.8601 - loss: 0.3281 - val_accuracy: 0.8622 - val_loss: 0.3412\n",
            "Epoch 24/50\n",
            "\u001b[1m110/110\u001b[0m \u001b[32m━━━━━━━━━━━━━━━━━━━━\u001b[0m\u001b[37m\u001b[0m \u001b[1m1s\u001b[0m 3ms/step - accuracy: 0.8609 - loss: 0.3272 - val_accuracy: 0.8628 - val_loss: 0.3411\n",
            "Epoch 25/50\n",
            "\u001b[1m110/110\u001b[0m \u001b[32m━━━━━━━━━━━━━━━━━━━━\u001b[0m\u001b[37m\u001b[0m \u001b[1m0s\u001b[0m 3ms/step - accuracy: 0.8606 - loss: 0.3262 - val_accuracy: 0.8644 - val_loss: 0.3410\n",
            "Epoch 26/50\n",
            "\u001b[1m110/110\u001b[0m \u001b[32m━━━━━━━━━━━━━━━━━━━━\u001b[0m\u001b[37m\u001b[0m \u001b[1m1s\u001b[0m 3ms/step - accuracy: 0.8609 - loss: 0.3253 - val_accuracy: 0.8644 - val_loss: 0.3413\n",
            "Epoch 27/50\n",
            "\u001b[1m110/110\u001b[0m \u001b[32m━━━━━━━━━━━━━━━━━━━━\u001b[0m\u001b[37m\u001b[0m \u001b[1m0s\u001b[0m 3ms/step - accuracy: 0.8620 - loss: 0.3245 - val_accuracy: 0.8644 - val_loss: 0.3412\n",
            "Epoch 28/50\n",
            "\u001b[1m110/110\u001b[0m \u001b[32m━━━━━━━━━━━━━━━━━━━━\u001b[0m\u001b[37m\u001b[0m \u001b[1m0s\u001b[0m 3ms/step - accuracy: 0.8636 - loss: 0.3236 - val_accuracy: 0.8639 - val_loss: 0.3412\n",
            "Epoch 29/50\n",
            "\u001b[1m110/110\u001b[0m \u001b[32m━━━━━━━━━━━━━━━━━━━━\u001b[0m\u001b[37m\u001b[0m \u001b[1m1s\u001b[0m 3ms/step - accuracy: 0.8632 - loss: 0.3226 - val_accuracy: 0.8644 - val_loss: 0.3415\n",
            "Epoch 30/50\n",
            "\u001b[1m110/110\u001b[0m \u001b[32m━━━━━━━━━━━━━━━━━━━━\u001b[0m\u001b[37m\u001b[0m \u001b[1m0s\u001b[0m 4ms/step - accuracy: 0.8630 - loss: 0.3218 - val_accuracy: 0.8650 - val_loss: 0.3416\n",
            "Epoch 31/50\n",
            "\u001b[1m110/110\u001b[0m \u001b[32m━━━━━━━━━━━━━━━━━━━━\u001b[0m\u001b[37m\u001b[0m \u001b[1m1s\u001b[0m 4ms/step - accuracy: 0.8633 - loss: 0.3211 - val_accuracy: 0.8639 - val_loss: 0.3419\n",
            "Epoch 32/50\n",
            "\u001b[1m110/110\u001b[0m \u001b[32m━━━━━━━━━━━━━━━━━━━━\u001b[0m\u001b[37m\u001b[0m \u001b[1m0s\u001b[0m 4ms/step - accuracy: 0.8640 - loss: 0.3204 - val_accuracy: 0.8644 - val_loss: 0.3421\n",
            "Epoch 33/50\n",
            "\u001b[1m110/110\u001b[0m \u001b[32m━━━━━━━━━━━━━━━━━━━━\u001b[0m\u001b[37m\u001b[0m \u001b[1m1s\u001b[0m 5ms/step - accuracy: 0.8635 - loss: 0.3197 - val_accuracy: 0.8633 - val_loss: 0.3424\n",
            "Epoch 34/50\n",
            "\u001b[1m110/110\u001b[0m \u001b[32m━━━━━━━━━━━━━━━━━━━━\u001b[0m\u001b[37m\u001b[0m \u001b[1m1s\u001b[0m 5ms/step - accuracy: 0.8645 - loss: 0.3190 - val_accuracy: 0.8628 - val_loss: 0.3425\n",
            "Epoch 35/50\n",
            "\u001b[1m110/110\u001b[0m \u001b[32m━━━━━━━━━━━━━━━━━━━━\u001b[0m\u001b[37m\u001b[0m \u001b[1m1s\u001b[0m 5ms/step - accuracy: 0.8646 - loss: 0.3182 - val_accuracy: 0.8633 - val_loss: 0.3428\n",
            "Epoch 36/50\n",
            "\u001b[1m110/110\u001b[0m \u001b[32m━━━━━━━━━━━━━━━━━━━━\u001b[0m\u001b[37m\u001b[0m \u001b[1m1s\u001b[0m 5ms/step - accuracy: 0.8655 - loss: 0.3176 - val_accuracy: 0.8628 - val_loss: 0.3430\n",
            "Epoch 37/50\n",
            "\u001b[1m110/110\u001b[0m \u001b[32m━━━━━━━━━━━━━━━━━━━━\u001b[0m\u001b[37m\u001b[0m \u001b[1m1s\u001b[0m 5ms/step - accuracy: 0.8668 - loss: 0.3169 - val_accuracy: 0.8622 - val_loss: 0.3433\n",
            "Epoch 38/50\n",
            "\u001b[1m110/110\u001b[0m \u001b[32m━━━━━━━━━━━━━━━━━━━━\u001b[0m\u001b[37m\u001b[0m \u001b[1m1s\u001b[0m 5ms/step - accuracy: 0.8668 - loss: 0.3163 - val_accuracy: 0.8611 - val_loss: 0.3435\n",
            "Epoch 39/50\n",
            "\u001b[1m110/110\u001b[0m \u001b[32m━━━━━━━━━━━━━━━━━━━━\u001b[0m\u001b[37m\u001b[0m \u001b[1m1s\u001b[0m 5ms/step - accuracy: 0.8675 - loss: 0.3155 - val_accuracy: 0.8600 - val_loss: 0.3438\n",
            "Epoch 40/50\n",
            "\u001b[1m110/110\u001b[0m \u001b[32m━━━━━━━━━━━━━━━━━━━━\u001b[0m\u001b[37m\u001b[0m \u001b[1m0s\u001b[0m 3ms/step - accuracy: 0.8679 - loss: 0.3149 - val_accuracy: 0.8606 - val_loss: 0.3439\n",
            "Epoch 41/50\n",
            "\u001b[1m110/110\u001b[0m \u001b[32m━━━━━━━━━━━━━━━━━━━━\u001b[0m\u001b[37m\u001b[0m \u001b[1m0s\u001b[0m 4ms/step - accuracy: 0.8682 - loss: 0.3143 - val_accuracy: 0.8594 - val_loss: 0.3441\n",
            "Epoch 42/50\n",
            "\u001b[1m110/110\u001b[0m \u001b[32m━━━━━━━━━━━━━━━━━━━━\u001b[0m\u001b[37m\u001b[0m \u001b[1m0s\u001b[0m 4ms/step - accuracy: 0.8680 - loss: 0.3137 - val_accuracy: 0.8589 - val_loss: 0.3445\n",
            "Epoch 43/50\n",
            "\u001b[1m110/110\u001b[0m \u001b[32m━━━━━━━━━━━━━━━━━━━━\u001b[0m\u001b[37m\u001b[0m \u001b[1m1s\u001b[0m 4ms/step - accuracy: 0.8680 - loss: 0.3130 - val_accuracy: 0.8600 - val_loss: 0.3447\n",
            "Epoch 44/50\n",
            "\u001b[1m110/110\u001b[0m \u001b[32m━━━━━━━━━━━━━━━━━━━━\u001b[0m\u001b[37m\u001b[0m \u001b[1m0s\u001b[0m 3ms/step - accuracy: 0.8684 - loss: 0.3123 - val_accuracy: 0.8583 - val_loss: 0.3450\n",
            "Epoch 45/50\n",
            "\u001b[1m110/110\u001b[0m \u001b[32m━━━━━━━━━━━━━━━━━━━━\u001b[0m\u001b[37m\u001b[0m \u001b[1m1s\u001b[0m 4ms/step - accuracy: 0.8684 - loss: 0.3115 - val_accuracy: 0.8578 - val_loss: 0.3454\n",
            "Epoch 46/50\n",
            "\u001b[1m110/110\u001b[0m \u001b[32m━━━━━━━━━━━━━━━━━━━━\u001b[0m\u001b[37m\u001b[0m \u001b[1m1s\u001b[0m 8ms/step - accuracy: 0.8686 - loss: 0.3109 - val_accuracy: 0.8578 - val_loss: 0.3457\n",
            "Epoch 47/50\n",
            "\u001b[1m110/110\u001b[0m \u001b[32m━━━━━━━━━━━━━━━━━━━━\u001b[0m\u001b[37m\u001b[0m \u001b[1m1s\u001b[0m 4ms/step - accuracy: 0.8691 - loss: 0.3103 - val_accuracy: 0.8589 - val_loss: 0.3461\n",
            "Epoch 48/50\n",
            "\u001b[1m110/110\u001b[0m \u001b[32m━━━━━━━━━━━━━━━━━━━━\u001b[0m\u001b[37m\u001b[0m \u001b[1m1s\u001b[0m 4ms/step - accuracy: 0.8701 - loss: 0.3097 - val_accuracy: 0.8572 - val_loss: 0.3467\n",
            "Epoch 49/50\n",
            "\u001b[1m110/110\u001b[0m \u001b[32m━━━━━━━━━━━━━━━━━━━━\u001b[0m\u001b[37m\u001b[0m \u001b[1m1s\u001b[0m 3ms/step - accuracy: 0.8702 - loss: 0.3091 - val_accuracy: 0.8583 - val_loss: 0.3468\n",
            "Epoch 50/50\n",
            "\u001b[1m110/110\u001b[0m \u001b[32m━━━━━━━━━━━━━━━━━━━━\u001b[0m\u001b[37m\u001b[0m \u001b[1m0s\u001b[0m 3ms/step - accuracy: 0.8706 - loss: 0.3084 - val_accuracy: 0.8589 - val_loss: 0.3472\n",
            "**********************************************************************************************************************************\n",
            "Model has been fit to training data.\n"
          ]
        }
      ]
    },
    {
      "cell_type": "code",
      "source": [
        "# Plotting Train Loss vs Validation Loss.\n",
        "plt.plot(history1.history['loss'])\n",
        "plt.plot(history1.history['val_loss'])\n",
        "plt.title('model loss')\n",
        "plt.ylabel('Loss')\n",
        "plt.xlabel('Epoch')\n",
        "plt.legend(['train', 'validation'], loc='upper right')\n",
        "plt.show()\n",
        "\n",
        "# Printing results.\n",
        "results = model1.evaluate(X_test, y_test)"
      ],
      "metadata": {
        "id": "CNsianwk8ZmR",
        "outputId": "f17c2766-2a92-47c8-958d-4edac6572e7f",
        "colab": {
          "base_uri": "https://localhost:8080/",
          "height": 489
        }
      },
      "execution_count": 89,
      "outputs": [
        {
          "output_type": "display_data",
          "data": {
            "text/plain": [
              "<Figure size 640x480 with 1 Axes>"
            ],
            "image/png": "[encoded data removed]"
          },
          "metadata": {}
        },
        {
          "output_type": "stream",
          "name": "stdout",
          "text": [
            "\u001b[1m38/38\u001b[0m \u001b[32m━━━━━━━━━━━━━━━━━━━━\u001b[0m\u001b[37m\u001b[0m \u001b[1m0s\u001b[0m 6ms/step - accuracy: 0.8526 - loss: 0.3730\n"
          ]
        }
      ]
    },
    {
      "cell_type": "code",
      "source": [
        "# Predicting probabilities.\n",
        "yhat1 = model1.predict(X_train)\n",
        "# Keeping probabilities for the positive outcomes only.\n",
        "yhat1 = yhat1[:, 0]\n",
        "# Calculating roc curves.\n",
        "fpr, tpr, thresholds1 = roc_curve(y_train, yhat1)\n",
        "# Calculating the g-mean for each threshold.\n",
        "gmeans1 = np.sqrt(tpr * (1-fpr))\n",
        "# Locating the index of the largest g-mean.\n",
        "ix = np.argmax(gmeans1)\n",
        "print('Best Threshold=%f, G-Mean=%.3f' % (thresholds1[ix], gmeans1[ix]))\n",
        "# Plotting the roc curve for the model.\n",
        "plt.plot([0,1], [0,1], linestyle='--', label='No Skill')\n",
        "plt.plot(fpr, tpr, marker='.')\n",
        "plt.scatter(fpr[ix], tpr[ix], marker='o', color='black', label='Best')\n",
        "# Axis labels.\n",
        "plt.xlabel('False Positive Rate')\n",
        "plt.ylabel('True Positive Rate')\n",
        "plt.legend()\n",
        "# Showing the plot.\n",
        "plt.show()"
      ],
      "metadata": {
        "id": "9JB5pmDj8qUD",
        "outputId": "5ee9696b-7506-4122-b1cb-cb92a330e158",
        "colab": {
          "base_uri": "https://localhost:8080/",
          "height": 484
        }
      },
      "execution_count": 92,
      "outputs": [
        {
          "output_type": "stream",
          "name": "stdout",
          "text": [
            "\u001b[1m219/219\u001b[0m \u001b[32m━━━━━━━━━━━━━━━━━━━━\u001b[0m\u001b[37m\u001b[0m \u001b[1m1s\u001b[0m 3ms/step\n",
            "Best Threshold=0.227888, G-Mean=0.822\n"
          ]
        },
        {
          "output_type": "display_data",
          "data": {
            "text/plain": [
              "<Figure size 640x480 with 1 Axes>"
            ],
            "image/png": "[encoded data removed]"
          },
          "metadata": {}
        }
      ]
    },
    {
      "cell_type": "code",
      "source": [
        "# Predicting the results using best as a threshold.\n",
        "y_pred1 = model1.predict(X_val)\n",
        "y_pred1 = (y_pred1 > thresholds1[ix])\n",
        "y_pred1"
      ],
      "metadata": {
        "id": "kOSdOjBQ84vQ",
        "outputId": "7efd8ccf-bc4d-4717-9584-5c392e2a7812",
        "colab": {
          "base_uri": "https://localhost:8080/"
        }
      },
      "execution_count": 93,
      "outputs": [
        {
          "output_type": "stream",
          "name": "stdout",
          "text": [
            "\u001b[1m57/57\u001b[0m \u001b[32m━━━━━━━━━━━━━━━━━━━━\u001b[0m\u001b[37m\u001b[0m \u001b[1m0s\u001b[0m 2ms/step\n"
          ]
        },
        {
          "output_type": "execute_result",
          "data": {
            "text/plain": [
              "array([[False],\n",
              "       [ True],\n",
              "       [False],\n",
              "       ...,\n",
              "       [False],\n",
              "       [False],\n",
              "       [False]])"
            ]
          },
          "metadata": {},
          "execution_count": 93
        }
      ]
    },
    {
      "cell_type": "code",
      "source": [
        "# Calculating the confusion matrix.\n",
        "cm1 = confusion_matrix(y_val, y_pred1)\n",
        "labels = ['True Negative','False Positive','False Negative','True Positive']\n",
        "categories = [ 'Not Exiting','Exiting']\n",
        "make_confusion_matrix(cm1,\n",
        "                      group_names=labels,\n",
        "                      categories=categories,\n",
        "                      cmap='Blues')"
      ],
      "metadata": {
        "id": "D_151HuM8686",
        "outputId": "bfc56a2d-5628-41bc-cb01-98d0647e5e1b",
        "colab": {
          "base_uri": "https://localhost:8080/",
          "height": 530
        }
      },
      "execution_count": 94,
      "outputs": [
        {
          "output_type": "display_data",
          "data": {
            "text/plain": [
              "<Figure size 640x480 with 2 Axes>"
            ],
            "image/png": "[encoded data removed]"
          },
          "metadata": {}
        }
      ]
    },
    {
      "cell_type": "markdown",
      "source": [
        "ADAM DROPOUT"
      ],
      "metadata": {
        "id": "QgRUHTD89Dfz"
      }
    },
    {
      "cell_type": "code",
      "source": [
        "# Clearing backend to help avoid clutter from old models and layers, and clear up memory.\n",
        "backend.clear_session()\n",
        "# Fixing the seed for random number generators so that we can ensure we receive the same output everytime.\n",
        "np.random.seed(13)\n",
        "import random\n",
        "random.seed(13)\n",
        "tf.random.set_seed(13)"
      ],
      "metadata": {
        "id": "LJvh_zqM89Ii"
      },
      "execution_count": 95,
      "outputs": []
    },
    {
      "cell_type": "code",
      "source": [
        "# Creating a sequential model.\n",
        "model2 = Sequential()\n",
        "# Adding the hidden and output layers with drop out.\n",
        "model2.add(Dense(128,activation='relu',input_dim = X_train.shape[1]))\n",
        "model2.add(Dropout(0.2))\n",
        "model2.add(Dense(64,activation='relu'))\n",
        "model2.add(Dropout(0.2))\n",
        "model2.add(Dense(32,activation='relu'))\n",
        "model2.add(Dense(1, activation = 'sigmoid'))"
      ],
      "metadata": {
        "id": "mTOeeleE9HeC"
      },
      "execution_count": 96,
      "outputs": []
    },
    {
      "cell_type": "code",
      "source": [
        "# Checking the summary of the model.\n",
        "model2.summary()"
      ],
      "metadata": {
        "id": "jlEqOodP9KAj",
        "outputId": "d62ed3a7-5035-4acb-8d9e-1083246bf9da",
        "colab": {
          "base_uri": "https://localhost:8080/",
          "height": 326
        }
      },
      "execution_count": 97,
      "outputs": [
        {
          "output_type": "display_data",
          "data": {
            "text/plain": [
              "\u001b[1mModel: \"sequential\"\u001b[0m\n"
            ],
            "text/html": [
              "<pre style=\"white-space:pre;overflow-x:auto;line-height:normal;font-family:Menlo,'DejaVu Sans Mono',consolas,'Courier New',monospace\"><span style=\"font-weight: bold\">Model: \"sequential\"</span>\n",
              "</pre>\n"
            ]
          },
          "metadata": {}
        },
        {
          "output_type": "display_data",
          "data": {
            "text/plain": [
              "┏━━━━━━━━━━━━━━━━━━━━━━━━━━━━━━━━━━━━━━┳━━━━━━━━━━━━━━━━━━━━━━━━━━━━━┳━━━━━━━━━━━━━━━━━┓\n",
              "┃\u001b[1m \u001b[0m\u001b[1mLayer (type)                        \u001b[0m\u001b[1m \u001b[0m┃\u001b[1m \u001b[0m\u001b[1mOutput Shape               \u001b[0m\u001b[1m \u001b[0m┃\u001b[1m \u001b[0m\u001b[1m        Param #\u001b[0m\u001b[1m \u001b[0m┃\n",
              "┡━━━━━━━━━━━━━━━━━━━━━━━━━━━━━━━━━━━━━━╇━━━━━━━━━━━━━━━━━━━━━━━━━━━━━╇━━━━━━━━━━━━━━━━━┩\n",
              "│ dense (\u001b[38;5;33mDense\u001b[0m)                        │ (\u001b[38;5;45mNone\u001b[0m, \u001b[38;5;34m128\u001b[0m)                 │           \u001b[38;5;34m1,536\u001b[0m │\n",
              "├──────────────────────────────────────┼─────────────────────────────┼─────────────────┤\n",
              "│ dropout (\u001b[38;5;33mDropout\u001b[0m)                    │ (\u001b[38;5;45mNone\u001b[0m, \u001b[38;5;34m128\u001b[0m)                 │               \u001b[38;5;34m0\u001b[0m │\n",
              "├──────────────────────────────────────┼─────────────────────────────┼─────────────────┤\n",
              "│ dense_1 (\u001b[38;5;33mDense\u001b[0m)                      │ (\u001b[38;5;45mNone\u001b[0m, \u001b[38;5;34m64\u001b[0m)                  │           \u001b[38;5;34m8,256\u001b[0m │\n",
              "├──────────────────────────────────────┼─────────────────────────────┼─────────────────┤\n",
              "│ dropout_1 (\u001b[38;5;33mDropout\u001b[0m)                  │ (\u001b[38;5;45mNone\u001b[0m, \u001b[38;5;34m64\u001b[0m)                  │               \u001b[38;5;34m0\u001b[0m │\n",
              "├──────────────────────────────────────┼─────────────────────────────┼─────────────────┤\n",
              "│ dense_2 (\u001b[38;5;33mDense\u001b[0m)                      │ (\u001b[38;5;45mNone\u001b[0m, \u001b[38;5;34m32\u001b[0m)                  │           \u001b[38;5;34m2,080\u001b[0m │\n",
              "├──────────────────────────────────────┼─────────────────────────────┼─────────────────┤\n",
              "│ dense_3 (\u001b[38;5;33mDense\u001b[0m)                      │ (\u001b[38;5;45mNone\u001b[0m, \u001b[38;5;34m1\u001b[0m)                   │              \u001b[38;5;34m33\u001b[0m │\n",
              "└──────────────────────────────────────┴─────────────────────────────┴─────────────────┘\n"
            ],
            "text/html": [
              "<pre style=\"white-space:pre;overflow-x:auto;line-height:normal;font-family:Menlo,'DejaVu Sans Mono',consolas,'Courier New',monospace\">┏━━━━━━━━━━━━━━━━━━━━━━━━━━━━━━━━━━━━━━┳━━━━━━━━━━━━━━━━━━━━━━━━━━━━━┳━━━━━━━━━━━━━━━━━┓\n",
              "┃<span style=\"font-weight: bold\"> Layer (type)                         </span>┃<span style=\"font-weight: bold\"> Output Shape                </span>┃<span style=\"font-weight: bold\">         Param # </span>┃\n",
              "┡━━━━━━━━━━━━━━━━━━━━━━━━━━━━━━━━━━━━━━╇━━━━━━━━━━━━━━━━━━━━━━━━━━━━━╇━━━━━━━━━━━━━━━━━┩\n",
              "│ dense (<span style=\"color: #0087ff; text-decoration-color: #0087ff\">Dense</span>)                        │ (<span style=\"color: #00d7ff; text-decoration-color: #00d7ff\">None</span>, <span style=\"color: #00af00; text-decoration-color: #00af00\">128</span>)                 │           <span style=\"color: #00af00; text-decoration-color: #00af00\">1,536</span> │\n",
              "├──────────────────────────────────────┼─────────────────────────────┼─────────────────┤\n",
              "│ dropout (<span style=\"color: #0087ff; text-decoration-color: #0087ff\">Dropout</span>)                    │ (<span style=\"color: #00d7ff; text-decoration-color: #00d7ff\">None</span>, <span style=\"color: #00af00; text-decoration-color: #00af00\">128</span>)                 │               <span style=\"color: #00af00; text-decoration-color: #00af00\">0</span> │\n",
              "├──────────────────────────────────────┼─────────────────────────────┼─────────────────┤\n",
              "│ dense_1 (<span style=\"color: #0087ff; text-decoration-color: #0087ff\">Dense</span>)                      │ (<span style=\"color: #00d7ff; text-decoration-color: #00d7ff\">None</span>, <span style=\"color: #00af00; text-decoration-color: #00af00\">64</span>)                  │           <span style=\"color: #00af00; text-decoration-color: #00af00\">8,256</span> │\n",
              "├──────────────────────────────────────┼─────────────────────────────┼─────────────────┤\n",
              "│ dropout_1 (<span style=\"color: #0087ff; text-decoration-color: #0087ff\">Dropout</span>)                  │ (<span style=\"color: #00d7ff; text-decoration-color: #00d7ff\">None</span>, <span style=\"color: #00af00; text-decoration-color: #00af00\">64</span>)                  │               <span style=\"color: #00af00; text-decoration-color: #00af00\">0</span> │\n",
              "├──────────────────────────────────────┼─────────────────────────────┼─────────────────┤\n",
              "│ dense_2 (<span style=\"color: #0087ff; text-decoration-color: #0087ff\">Dense</span>)                      │ (<span style=\"color: #00d7ff; text-decoration-color: #00d7ff\">None</span>, <span style=\"color: #00af00; text-decoration-color: #00af00\">32</span>)                  │           <span style=\"color: #00af00; text-decoration-color: #00af00\">2,080</span> │\n",
              "├──────────────────────────────────────┼─────────────────────────────┼─────────────────┤\n",
              "│ dense_3 (<span style=\"color: #0087ff; text-decoration-color: #0087ff\">Dense</span>)                      │ (<span style=\"color: #00d7ff; text-decoration-color: #00d7ff\">None</span>, <span style=\"color: #00af00; text-decoration-color: #00af00\">1</span>)                   │              <span style=\"color: #00af00; text-decoration-color: #00af00\">33</span> │\n",
              "└──────────────────────────────────────┴─────────────────────────────┴─────────────────┘\n",
              "</pre>\n"
            ]
          },
          "metadata": {}
        },
        {
          "output_type": "display_data",
          "data": {
            "text/plain": [
              "\u001b[1m Total params: \u001b[0m\u001b[38;5;34m11,905\u001b[0m (46.50 KB)\n"
            ],
            "text/html": [
              "<pre style=\"white-space:pre;overflow-x:auto;line-height:normal;font-family:Menlo,'DejaVu Sans Mono',consolas,'Courier New',monospace\"><span style=\"font-weight: bold\"> Total params: </span><span style=\"color: #00af00; text-decoration-color: #00af00\">11,905</span> (46.50 KB)\n",
              "</pre>\n"
            ]
          },
          "metadata": {}
        },
        {
          "output_type": "display_data",
          "data": {
            "text/plain": [
              "\u001b[1m Trainable params: \u001b[0m\u001b[38;5;34m11,905\u001b[0m (46.50 KB)\n"
            ],
            "text/html": [
              "<pre style=\"white-space:pre;overflow-x:auto;line-height:normal;font-family:Menlo,'DejaVu Sans Mono',consolas,'Courier New',monospace\"><span style=\"font-weight: bold\"> Trainable params: </span><span style=\"color: #00af00; text-decoration-color: #00af00\">11,905</span> (46.50 KB)\n",
              "</pre>\n"
            ]
          },
          "metadata": {}
        },
        {
          "output_type": "display_data",
          "data": {
            "text/plain": [
              "\u001b[1m Non-trainable params: \u001b[0m\u001b[38;5;34m0\u001b[0m (0.00 B)\n"
            ],
            "text/html": [
              "<pre style=\"white-space:pre;overflow-x:auto;line-height:normal;font-family:Menlo,'DejaVu Sans Mono',consolas,'Courier New',monospace\"><span style=\"font-weight: bold\"> Non-trainable params: </span><span style=\"color: #00af00; text-decoration-color: #00af00\">0</span> (0.00 B)\n",
              "</pre>\n"
            ]
          },
          "metadata": {}
        }
      ]
    },
    {
      "cell_type": "code",
      "source": [
        "\n",
        "# Compiling with Adam optimizer and binary cross entropy loss function.\n",
        "optimizer2 = tf.keras.optimizers.Adam(0.001)\n",
        "model2.compile(loss='binary_crossentropy',optimizer=optimizer2,metrics=['accuracy'])"
      ],
      "metadata": {
        "id": "XU8BAunP9LAy"
      },
      "execution_count": 100,
      "outputs": []
    },
    {
      "cell_type": "code",
      "source": [
        "# Fitting the model to training data and storing the results.\n",
        "history2 = model2.fit(X_train,\n",
        "                      y_train,\n",
        "                      batch_size=64,\n",
        "                      epochs=100,\n",
        "                      verbose=1,\n",
        "                      validation_data=(X_val, y_val))\n",
        "print(\"*\" * 130)\n",
        "print(\"Model has been fit to training data.\")"
      ],
      "metadata": {
        "id": "dXdMjiWb9QjT",
        "outputId": "c7cecd1e-2a25-47e1-dd68-a541b735e7e0",
        "colab": {
          "base_uri": "https://localhost:8080/"
        }
      },
      "execution_count": 101,
      "outputs": [
        {
          "output_type": "stream",
          "name": "stdout",
          "text": [
            "Epoch 1/100\n",
            "\u001b[1m110/110\u001b[0m \u001b[32m━━━━━━━━━━━━━━━━━━━━\u001b[0m\u001b[37m\u001b[0m \u001b[1m15s\u001b[0m 43ms/step - accuracy: 0.7162 - loss: 0.5479 - val_accuracy: 0.8111 - val_loss: 0.4185\n",
            "Epoch 2/100\n",
            "\u001b[1m110/110\u001b[0m \u001b[32m━━━━━━━━━━━━━━━━━━━━\u001b[0m\u001b[37m\u001b[0m \u001b[1m1s\u001b[0m 7ms/step - accuracy: 0.8040 - loss: 0.4470 - val_accuracy: 0.8167 - val_loss: 0.4071\n",
            "Epoch 3/100\n",
            "\u001b[1m110/110\u001b[0m \u001b[32m━━━━━━━━━━━━━━━━━━━━\u001b[0m\u001b[37m\u001b[0m \u001b[1m0s\u001b[0m 4ms/step - accuracy: 0.8150 - loss: 0.4332 - val_accuracy: 0.8300 - val_loss: 0.3967\n",
            "Epoch 4/100\n",
            "\u001b[1m110/110\u001b[0m \u001b[32m━━━━━━━━━━━━━━━━━━━━\u001b[0m\u001b[37m\u001b[0m \u001b[1m1s\u001b[0m 4ms/step - accuracy: 0.8201 - loss: 0.4234 - val_accuracy: 0.8383 - val_loss: 0.3865\n",
            "Epoch 5/100\n",
            "\u001b[1m110/110\u001b[0m \u001b[32m━━━━━━━━━━━━━━━━━━━━\u001b[0m\u001b[37m\u001b[0m \u001b[1m1s\u001b[0m 5ms/step - accuracy: 0.8214 - loss: 0.4173 - val_accuracy: 0.8417 - val_loss: 0.3773\n",
            "Epoch 6/100\n",
            "\u001b[1m110/110\u001b[0m \u001b[32m━━━━━━━━━━━━━━━━━━━━\u001b[0m\u001b[37m\u001b[0m \u001b[1m1s\u001b[0m 5ms/step - accuracy: 0.8321 - loss: 0.4044 - val_accuracy: 0.8483 - val_loss: 0.3676\n",
            "Epoch 7/100\n",
            "\u001b[1m110/110\u001b[0m \u001b[32m━━━━━━━━━━━━━━━━━━━━\u001b[0m\u001b[37m\u001b[0m \u001b[1m1s\u001b[0m 6ms/step - accuracy: 0.8367 - loss: 0.3959 - val_accuracy: 0.8567 - val_loss: 0.3598\n",
            "Epoch 8/100\n",
            "\u001b[1m110/110\u001b[0m \u001b[32m━━━━━━━━━━━━━━━━━━━━\u001b[0m\u001b[37m\u001b[0m \u001b[1m1s\u001b[0m 4ms/step - accuracy: 0.8386 - loss: 0.3880 - val_accuracy: 0.8511 - val_loss: 0.3536\n",
            "Epoch 9/100\n",
            "\u001b[1m110/110\u001b[0m \u001b[32m━━━━━━━━━━━━━━━━━━━━\u001b[0m\u001b[37m\u001b[0m \u001b[1m1s\u001b[0m 3ms/step - accuracy: 0.8396 - loss: 0.3773 - val_accuracy: 0.8578 - val_loss: 0.3492\n",
            "Epoch 10/100\n",
            "\u001b[1m110/110\u001b[0m \u001b[32m━━━━━━━━━━━━━━━━━━━━\u001b[0m\u001b[37m\u001b[0m \u001b[1m0s\u001b[0m 4ms/step - accuracy: 0.8409 - loss: 0.3750 - val_accuracy: 0.8617 - val_loss: 0.3462\n",
            "Epoch 11/100\n",
            "\u001b[1m110/110\u001b[0m \u001b[32m━━━━━━━━━━━━━━━━━━━━\u001b[0m\u001b[37m\u001b[0m \u001b[1m1s\u001b[0m 4ms/step - accuracy: 0.8483 - loss: 0.3677 - val_accuracy: 0.8633 - val_loss: 0.3440\n",
            "Epoch 12/100\n",
            "\u001b[1m110/110\u001b[0m \u001b[32m━━━━━━━━━━━━━━━━━━━━\u001b[0m\u001b[37m\u001b[0m \u001b[1m1s\u001b[0m 5ms/step - accuracy: 0.8556 - loss: 0.3591 - val_accuracy: 0.8628 - val_loss: 0.3416\n",
            "Epoch 13/100\n",
            "\u001b[1m110/110\u001b[0m \u001b[32m━━━━━━━━━━━━━━━━━━━━\u001b[0m\u001b[37m\u001b[0m \u001b[1m0s\u001b[0m 3ms/step - accuracy: 0.8521 - loss: 0.3530 - val_accuracy: 0.8650 - val_loss: 0.3399\n",
            "Epoch 14/100\n",
            "\u001b[1m110/110\u001b[0m \u001b[32m━━━━━━━━━━━━━━━━━━━━\u001b[0m\u001b[37m\u001b[0m \u001b[1m1s\u001b[0m 4ms/step - accuracy: 0.8503 - loss: 0.3555 - val_accuracy: 0.8600 - val_loss: 0.3410\n",
            "Epoch 15/100\n",
            "\u001b[1m110/110\u001b[0m \u001b[32m━━━━━━━━━━━━━━━━━━━━\u001b[0m\u001b[37m\u001b[0m \u001b[1m0s\u001b[0m 4ms/step - accuracy: 0.8570 - loss: 0.3497 - val_accuracy: 0.8583 - val_loss: 0.3413\n",
            "Epoch 16/100\n",
            "\u001b[1m110/110\u001b[0m \u001b[32m━━━━━━━━━━━━━━━━━━━━\u001b[0m\u001b[37m\u001b[0m \u001b[1m1s\u001b[0m 4ms/step - accuracy: 0.8592 - loss: 0.3454 - val_accuracy: 0.8617 - val_loss: 0.3412\n",
            "Epoch 17/100\n",
            "\u001b[1m110/110\u001b[0m \u001b[32m━━━━━━━━━━━━━━━━━━━━\u001b[0m\u001b[37m\u001b[0m \u001b[1m0s\u001b[0m 3ms/step - accuracy: 0.8576 - loss: 0.3416 - val_accuracy: 0.8611 - val_loss: 0.3393\n",
            "Epoch 18/100\n",
            "\u001b[1m110/110\u001b[0m \u001b[32m━━━━━━━━━━━━━━━━━━━━\u001b[0m\u001b[37m\u001b[0m \u001b[1m0s\u001b[0m 4ms/step - accuracy: 0.8584 - loss: 0.3362 - val_accuracy: 0.8650 - val_loss: 0.3413\n",
            "Epoch 19/100\n",
            "\u001b[1m110/110\u001b[0m \u001b[32m━━━━━━━━━━━━━━━━━━━━\u001b[0m\u001b[37m\u001b[0m \u001b[1m1s\u001b[0m 4ms/step - accuracy: 0.8581 - loss: 0.3440 - val_accuracy: 0.8594 - val_loss: 0.3393\n",
            "Epoch 20/100\n",
            "\u001b[1m110/110\u001b[0m \u001b[32m━━━━━━━━━━━━━━━━━━━━\u001b[0m\u001b[37m\u001b[0m \u001b[1m0s\u001b[0m 4ms/step - accuracy: 0.8602 - loss: 0.3386 - val_accuracy: 0.8628 - val_loss: 0.3405\n",
            "Epoch 21/100\n",
            "\u001b[1m110/110\u001b[0m \u001b[32m━━━━━━━━━━━━━━━━━━━━\u001b[0m\u001b[37m\u001b[0m \u001b[1m1s\u001b[0m 4ms/step - accuracy: 0.8568 - loss: 0.3385 - val_accuracy: 0.8644 - val_loss: 0.3435\n",
            "Epoch 22/100\n",
            "\u001b[1m110/110\u001b[0m \u001b[32m━━━━━━━━━━━━━━━━━━━━\u001b[0m\u001b[37m\u001b[0m \u001b[1m0s\u001b[0m 4ms/step - accuracy: 0.8590 - loss: 0.3356 - val_accuracy: 0.8633 - val_loss: 0.3427\n",
            "Epoch 23/100\n",
            "\u001b[1m110/110\u001b[0m \u001b[32m━━━━━━━━━━━━━━━━━━━━\u001b[0m\u001b[37m\u001b[0m \u001b[1m1s\u001b[0m 5ms/step - accuracy: 0.8605 - loss: 0.3358 - val_accuracy: 0.8617 - val_loss: 0.3417\n",
            "Epoch 24/100\n",
            "\u001b[1m110/110\u001b[0m \u001b[32m━━━━━━━━━━━━━━━━━━━━\u001b[0m\u001b[37m\u001b[0m \u001b[1m0s\u001b[0m 4ms/step - accuracy: 0.8631 - loss: 0.3282 - val_accuracy: 0.8622 - val_loss: 0.3405\n",
            "Epoch 25/100\n",
            "\u001b[1m110/110\u001b[0m \u001b[32m━━━━━━━━━━━━━━━━━━━━\u001b[0m\u001b[37m\u001b[0m \u001b[1m1s\u001b[0m 4ms/step - accuracy: 0.8593 - loss: 0.3295 - val_accuracy: 0.8578 - val_loss: 0.3415\n",
            "Epoch 26/100\n",
            "\u001b[1m110/110\u001b[0m \u001b[32m━━━━━━━━━━━━━━━━━━━━\u001b[0m\u001b[37m\u001b[0m \u001b[1m0s\u001b[0m 4ms/step - accuracy: 0.8620 - loss: 0.3370 - val_accuracy: 0.8606 - val_loss: 0.3429\n",
            "Epoch 27/100\n",
            "\u001b[1m110/110\u001b[0m \u001b[32m━━━━━━━━━━━━━━━━━━━━\u001b[0m\u001b[37m\u001b[0m \u001b[1m1s\u001b[0m 6ms/step - accuracy: 0.8635 - loss: 0.3344 - val_accuracy: 0.8644 - val_loss: 0.3436\n",
            "Epoch 28/100\n",
            "\u001b[1m110/110\u001b[0m \u001b[32m━━━━━━━━━━━━━━━━━━━━\u001b[0m\u001b[37m\u001b[0m \u001b[1m1s\u001b[0m 6ms/step - accuracy: 0.8653 - loss: 0.3278 - val_accuracy: 0.8589 - val_loss: 0.3428\n",
            "Epoch 29/100\n",
            "\u001b[1m110/110\u001b[0m \u001b[32m━━━━━━━━━━━━━━━━━━━━\u001b[0m\u001b[37m\u001b[0m \u001b[1m1s\u001b[0m 5ms/step - accuracy: 0.8609 - loss: 0.3271 - val_accuracy: 0.8606 - val_loss: 0.3437\n",
            "Epoch 30/100\n",
            "\u001b[1m110/110\u001b[0m \u001b[32m━━━━━━━━━━━━━━━━━━━━\u001b[0m\u001b[37m\u001b[0m \u001b[1m1s\u001b[0m 5ms/step - accuracy: 0.8610 - loss: 0.3272 - val_accuracy: 0.8617 - val_loss: 0.3421\n",
            "Epoch 31/100\n",
            "\u001b[1m110/110\u001b[0m \u001b[32m━━━━━━━━━━━━━━━━━━━━\u001b[0m\u001b[37m\u001b[0m \u001b[1m2s\u001b[0m 9ms/step - accuracy: 0.8618 - loss: 0.3235 - val_accuracy: 0.8594 - val_loss: 0.3404\n",
            "Epoch 32/100\n",
            "\u001b[1m110/110\u001b[0m \u001b[32m━━━━━━━━━━━━━━━━━━━━\u001b[0m\u001b[37m\u001b[0m \u001b[1m1s\u001b[0m 6ms/step - accuracy: 0.8647 - loss: 0.3235 - val_accuracy: 0.8589 - val_loss: 0.3413\n",
            "Epoch 33/100\n",
            "\u001b[1m110/110\u001b[0m \u001b[32m━━━━━━━━━━━━━━━━━━━━\u001b[0m\u001b[37m\u001b[0m \u001b[1m1s\u001b[0m 5ms/step - accuracy: 0.8668 - loss: 0.3251 - val_accuracy: 0.8622 - val_loss: 0.3415\n",
            "Epoch 34/100\n",
            "\u001b[1m110/110\u001b[0m \u001b[32m━━━━━━━━━━━━━━━━━━━━\u001b[0m\u001b[37m\u001b[0m \u001b[1m1s\u001b[0m 5ms/step - accuracy: 0.8680 - loss: 0.3209 - val_accuracy: 0.8589 - val_loss: 0.3434\n",
            "Epoch 35/100\n",
            "\u001b[1m110/110\u001b[0m \u001b[32m━━━━━━━━━━━━━━━━━━━━\u001b[0m\u001b[37m\u001b[0m \u001b[1m1s\u001b[0m 6ms/step - accuracy: 0.8640 - loss: 0.3196 - val_accuracy: 0.8594 - val_loss: 0.3427\n",
            "Epoch 36/100\n",
            "\u001b[1m110/110\u001b[0m \u001b[32m━━━━━━━━━━━━━━━━━━━━\u001b[0m\u001b[37m\u001b[0m \u001b[1m1s\u001b[0m 4ms/step - accuracy: 0.8644 - loss: 0.3193 - val_accuracy: 0.8589 - val_loss: 0.3452\n",
            "Epoch 37/100\n",
            "\u001b[1m110/110\u001b[0m \u001b[32m━━━━━━━━━━━━━━━━━━━━\u001b[0m\u001b[37m\u001b[0m \u001b[1m0s\u001b[0m 4ms/step - accuracy: 0.8616 - loss: 0.3262 - val_accuracy: 0.8628 - val_loss: 0.3431\n",
            "Epoch 38/100\n",
            "\u001b[1m110/110\u001b[0m \u001b[32m━━━━━━━━━━━━━━━━━━━━\u001b[0m\u001b[37m\u001b[0m \u001b[1m1s\u001b[0m 4ms/step - accuracy: 0.8683 - loss: 0.3173 - val_accuracy: 0.8567 - val_loss: 0.3474\n",
            "Epoch 39/100\n",
            "\u001b[1m110/110\u001b[0m \u001b[32m━━━━━━━━━━━━━━━━━━━━\u001b[0m\u001b[37m\u001b[0m \u001b[1m1s\u001b[0m 4ms/step - accuracy: 0.8682 - loss: 0.3191 - val_accuracy: 0.8639 - val_loss: 0.3443\n",
            "Epoch 40/100\n",
            "\u001b[1m110/110\u001b[0m \u001b[32m━━━━━━━━━━━━━━━━━━━━\u001b[0m\u001b[37m\u001b[0m \u001b[1m0s\u001b[0m 4ms/step - accuracy: 0.8650 - loss: 0.3201 - val_accuracy: 0.8589 - val_loss: 0.3439\n",
            "Epoch 41/100\n",
            "\u001b[1m110/110\u001b[0m \u001b[32m━━━━━━━━━━━━━━━━━━━━\u001b[0m\u001b[37m\u001b[0m \u001b[1m1s\u001b[0m 4ms/step - accuracy: 0.8690 - loss: 0.3164 - val_accuracy: 0.8594 - val_loss: 0.3464\n",
            "Epoch 42/100\n",
            "\u001b[1m110/110\u001b[0m \u001b[32m━━━━━━━━━━━━━━━━━━━━\u001b[0m\u001b[37m\u001b[0m \u001b[1m0s\u001b[0m 4ms/step - accuracy: 0.8667 - loss: 0.3204 - val_accuracy: 0.8572 - val_loss: 0.3454\n",
            "Epoch 43/100\n",
            "\u001b[1m110/110\u001b[0m \u001b[32m━━━━━━━━━━━━━━━━━━━━\u001b[0m\u001b[37m\u001b[0m \u001b[1m1s\u001b[0m 7ms/step - accuracy: 0.8681 - loss: 0.3123 - val_accuracy: 0.8600 - val_loss: 0.3413\n",
            "Epoch 44/100\n",
            "\u001b[1m110/110\u001b[0m \u001b[32m━━━━━━━━━━━━━━━━━━━━\u001b[0m\u001b[37m\u001b[0m \u001b[1m1s\u001b[0m 6ms/step - accuracy: 0.8747 - loss: 0.3090 - val_accuracy: 0.8600 - val_loss: 0.3471\n",
            "Epoch 45/100\n",
            "\u001b[1m110/110\u001b[0m \u001b[32m━━━━━━━━━━━━━━━━━━━━\u001b[0m\u001b[37m\u001b[0m \u001b[1m1s\u001b[0m 6ms/step - accuracy: 0.8686 - loss: 0.3123 - val_accuracy: 0.8578 - val_loss: 0.3482\n",
            "Epoch 46/100\n",
            "\u001b[1m110/110\u001b[0m \u001b[32m━━━━━━━━━━━━━━━━━━━━\u001b[0m\u001b[37m\u001b[0m \u001b[1m1s\u001b[0m 8ms/step - accuracy: 0.8690 - loss: 0.3153 - val_accuracy: 0.8556 - val_loss: 0.3477\n",
            "Epoch 47/100\n",
            "\u001b[1m110/110\u001b[0m \u001b[32m━━━━━━━━━━━━━━━━━━━━\u001b[0m\u001b[37m\u001b[0m \u001b[1m1s\u001b[0m 10ms/step - accuracy: 0.8673 - loss: 0.3169 - val_accuracy: 0.8533 - val_loss: 0.3483\n",
            "Epoch 48/100\n",
            "\u001b[1m110/110\u001b[0m \u001b[32m━━━━━━━━━━━━━━━━━━━━\u001b[0m\u001b[37m\u001b[0m \u001b[1m1s\u001b[0m 10ms/step - accuracy: 0.8730 - loss: 0.3064 - val_accuracy: 0.8583 - val_loss: 0.3476\n",
            "Epoch 49/100\n",
            "\u001b[1m110/110\u001b[0m \u001b[32m━━━━━━━━━━━━━━━━━━━━\u001b[0m\u001b[37m\u001b[0m \u001b[1m1s\u001b[0m 6ms/step - accuracy: 0.8691 - loss: 0.3137 - val_accuracy: 0.8550 - val_loss: 0.3521\n",
            "Epoch 50/100\n",
            "\u001b[1m110/110\u001b[0m \u001b[32m━━━━━━━━━━━━━━━━━━━━\u001b[0m\u001b[37m\u001b[0m \u001b[1m1s\u001b[0m 4ms/step - accuracy: 0.8712 - loss: 0.3086 - val_accuracy: 0.8583 - val_loss: 0.3455\n",
            "Epoch 51/100\n",
            "\u001b[1m110/110\u001b[0m \u001b[32m━━━━━━━━━━━━━━━━━━━━\u001b[0m\u001b[37m\u001b[0m \u001b[1m1s\u001b[0m 4ms/step - accuracy: 0.8680 - loss: 0.3129 - val_accuracy: 0.8561 - val_loss: 0.3454\n",
            "Epoch 52/100\n",
            "\u001b[1m110/110\u001b[0m \u001b[32m━━━━━━━━━━━━━━━━━━━━\u001b[0m\u001b[37m\u001b[0m \u001b[1m0s\u001b[0m 3ms/step - accuracy: 0.8676 - loss: 0.3109 - val_accuracy: 0.8589 - val_loss: 0.3461\n",
            "Epoch 53/100\n",
            "\u001b[1m110/110\u001b[0m \u001b[32m━━━━━━━━━━━━━━━━━━━━\u001b[0m\u001b[37m\u001b[0m \u001b[1m0s\u001b[0m 4ms/step - accuracy: 0.8739 - loss: 0.3025 - val_accuracy: 0.8611 - val_loss: 0.3481\n",
            "Epoch 54/100\n",
            "\u001b[1m110/110\u001b[0m \u001b[32m━━━━━━━━━━━━━━━━━━━━\u001b[0m\u001b[37m\u001b[0m \u001b[1m0s\u001b[0m 4ms/step - accuracy: 0.8723 - loss: 0.3040 - val_accuracy: 0.8611 - val_loss: 0.3510\n",
            "Epoch 55/100\n",
            "\u001b[1m110/110\u001b[0m \u001b[32m━━━━━━━━━━━━━━━━━━━━\u001b[0m\u001b[37m\u001b[0m \u001b[1m0s\u001b[0m 4ms/step - accuracy: 0.8665 - loss: 0.3084 - val_accuracy: 0.8622 - val_loss: 0.3507\n",
            "Epoch 56/100\n",
            "\u001b[1m110/110\u001b[0m \u001b[32m━━━━━━━━━━━━━━━━━━━━\u001b[0m\u001b[37m\u001b[0m \u001b[1m0s\u001b[0m 4ms/step - accuracy: 0.8765 - loss: 0.3027 - val_accuracy: 0.8600 - val_loss: 0.3504\n",
            "Epoch 57/100\n",
            "\u001b[1m110/110\u001b[0m \u001b[32m━━━━━━━━━━━━━━━━━━━━\u001b[0m\u001b[37m\u001b[0m \u001b[1m1s\u001b[0m 4ms/step - accuracy: 0.8731 - loss: 0.3034 - val_accuracy: 0.8594 - val_loss: 0.3541\n",
            "Epoch 58/100\n",
            "\u001b[1m110/110\u001b[0m \u001b[32m━━━━━━━━━━━━━━━━━━━━\u001b[0m\u001b[37m\u001b[0m \u001b[1m0s\u001b[0m 4ms/step - accuracy: 0.8764 - loss: 0.3053 - val_accuracy: 0.8617 - val_loss: 0.3490\n",
            "Epoch 59/100\n",
            "\u001b[1m110/110\u001b[0m \u001b[32m━━━━━━━━━━━━━━━━━━━━\u001b[0m\u001b[37m\u001b[0m \u001b[1m1s\u001b[0m 4ms/step - accuracy: 0.8759 - loss: 0.3015 - val_accuracy: 0.8556 - val_loss: 0.3478\n",
            "Epoch 60/100\n",
            "\u001b[1m110/110\u001b[0m \u001b[32m━━━━━━━━━━━━━━━━━━━━\u001b[0m\u001b[37m\u001b[0m \u001b[1m0s\u001b[0m 4ms/step - accuracy: 0.8779 - loss: 0.2966 - val_accuracy: 0.8578 - val_loss: 0.3541\n",
            "Epoch 61/100\n",
            "\u001b[1m110/110\u001b[0m \u001b[32m━━━━━━━━━━━━━━━━━━━━\u001b[0m\u001b[37m\u001b[0m \u001b[1m1s\u001b[0m 4ms/step - accuracy: 0.8760 - loss: 0.2971 - val_accuracy: 0.8594 - val_loss: 0.3502\n",
            "Epoch 62/100\n",
            "\u001b[1m110/110\u001b[0m \u001b[32m━━━━━━━━━━━━━━━━━━━━\u001b[0m\u001b[37m\u001b[0m \u001b[1m0s\u001b[0m 4ms/step - accuracy: 0.8828 - loss: 0.2937 - val_accuracy: 0.8600 - val_loss: 0.3495\n",
            "Epoch 63/100\n",
            "\u001b[1m110/110\u001b[0m \u001b[32m━━━━━━━━━━━━━━━━━━━━\u001b[0m\u001b[37m\u001b[0m \u001b[1m1s\u001b[0m 4ms/step - accuracy: 0.8724 - loss: 0.3009 - val_accuracy: 0.8578 - val_loss: 0.3517\n",
            "Epoch 64/100\n",
            "\u001b[1m110/110\u001b[0m \u001b[32m━━━━━━━━━━━━━━━━━━━━\u001b[0m\u001b[37m\u001b[0m \u001b[1m0s\u001b[0m 4ms/step - accuracy: 0.8721 - loss: 0.3009 - val_accuracy: 0.8606 - val_loss: 0.3550\n",
            "Epoch 65/100\n",
            "\u001b[1m110/110\u001b[0m \u001b[32m━━━━━━━━━━━━━━━━━━━━\u001b[0m\u001b[37m\u001b[0m \u001b[1m1s\u001b[0m 4ms/step - accuracy: 0.8763 - loss: 0.2963 - val_accuracy: 0.8628 - val_loss: 0.3495\n",
            "Epoch 66/100\n",
            "\u001b[1m110/110\u001b[0m \u001b[32m━━━━━━━━━━━━━━━━━━━━\u001b[0m\u001b[37m\u001b[0m \u001b[1m0s\u001b[0m 4ms/step - accuracy: 0.8807 - loss: 0.2892 - val_accuracy: 0.8617 - val_loss: 0.3488\n",
            "Epoch 67/100\n",
            "\u001b[1m110/110\u001b[0m \u001b[32m━━━━━━━━━━━━━━━━━━━━\u001b[0m\u001b[37m\u001b[0m \u001b[1m1s\u001b[0m 5ms/step - accuracy: 0.8746 - loss: 0.2922 - val_accuracy: 0.8572 - val_loss: 0.3517\n",
            "Epoch 68/100\n",
            "\u001b[1m110/110\u001b[0m \u001b[32m━━━━━━━━━━━━━━━━━━━━\u001b[0m\u001b[37m\u001b[0m \u001b[1m1s\u001b[0m 4ms/step - accuracy: 0.8836 - loss: 0.2839 - val_accuracy: 0.8594 - val_loss: 0.3456\n",
            "Epoch 69/100\n",
            "\u001b[1m110/110\u001b[0m \u001b[32m━━━━━━━━━━━━━━━━━━━━\u001b[0m\u001b[37m\u001b[0m \u001b[1m1s\u001b[0m 5ms/step - accuracy: 0.8781 - loss: 0.2960 - val_accuracy: 0.8606 - val_loss: 0.3536\n",
            "Epoch 70/100\n",
            "\u001b[1m110/110\u001b[0m \u001b[32m━━━━━━━━━━━━━━━━━━━━\u001b[0m\u001b[37m\u001b[0m \u001b[1m1s\u001b[0m 5ms/step - accuracy: 0.8783 - loss: 0.2897 - val_accuracy: 0.8572 - val_loss: 0.3559\n",
            "Epoch 71/100\n",
            "\u001b[1m110/110\u001b[0m \u001b[32m━━━━━━━━━━━━━━━━━━━━\u001b[0m\u001b[37m\u001b[0m \u001b[1m1s\u001b[0m 5ms/step - accuracy: 0.8772 - loss: 0.2913 - val_accuracy: 0.8561 - val_loss: 0.3534\n",
            "Epoch 72/100\n",
            "\u001b[1m110/110\u001b[0m \u001b[32m━━━━━━━━━━━━━━━━━━━━\u001b[0m\u001b[37m\u001b[0m \u001b[1m1s\u001b[0m 5ms/step - accuracy: 0.8776 - loss: 0.2942 - val_accuracy: 0.8600 - val_loss: 0.3504\n",
            "Epoch 73/100\n",
            "\u001b[1m110/110\u001b[0m \u001b[32m━━━━━━━━━━━━━━━━━━━━\u001b[0m\u001b[37m\u001b[0m \u001b[1m1s\u001b[0m 5ms/step - accuracy: 0.8806 - loss: 0.2823 - val_accuracy: 0.8567 - val_loss: 0.3536\n",
            "Epoch 74/100\n",
            "\u001b[1m110/110\u001b[0m \u001b[32m━━━━━━━━━━━━━━━━━━━━\u001b[0m\u001b[37m\u001b[0m \u001b[1m1s\u001b[0m 4ms/step - accuracy: 0.8750 - loss: 0.2900 - val_accuracy: 0.8572 - val_loss: 0.3587\n",
            "Epoch 75/100\n",
            "\u001b[1m110/110\u001b[0m \u001b[32m━━━━━━━━━━━━━━━━━━━━\u001b[0m\u001b[37m\u001b[0m \u001b[1m0s\u001b[0m 4ms/step - accuracy: 0.8763 - loss: 0.2914 - val_accuracy: 0.8600 - val_loss: 0.3531\n",
            "Epoch 76/100\n",
            "\u001b[1m110/110\u001b[0m \u001b[32m━━━━━━━━━━━━━━━━━━━━\u001b[0m\u001b[37m\u001b[0m \u001b[1m0s\u001b[0m 4ms/step - accuracy: 0.8812 - loss: 0.2860 - val_accuracy: 0.8589 - val_loss: 0.3561\n",
            "Epoch 77/100\n",
            "\u001b[1m110/110\u001b[0m \u001b[32m━━━━━━━━━━━━━━━━━━━━\u001b[0m\u001b[37m\u001b[0m \u001b[1m1s\u001b[0m 3ms/step - accuracy: 0.8848 - loss: 0.2802 - val_accuracy: 0.8594 - val_loss: 0.3601\n",
            "Epoch 78/100\n",
            "\u001b[1m110/110\u001b[0m \u001b[32m━━━━━━━━━━━━━━━━━━━━\u001b[0m\u001b[37m\u001b[0m \u001b[1m1s\u001b[0m 4ms/step - accuracy: 0.8802 - loss: 0.2826 - val_accuracy: 0.8617 - val_loss: 0.3534\n",
            "Epoch 79/100\n",
            "\u001b[1m110/110\u001b[0m \u001b[32m━━━━━━━━━━━━━━━━━━━━\u001b[0m\u001b[37m\u001b[0m \u001b[1m1s\u001b[0m 4ms/step - accuracy: 0.8773 - loss: 0.2914 - val_accuracy: 0.8611 - val_loss: 0.3528\n",
            "Epoch 80/100\n",
            "\u001b[1m110/110\u001b[0m \u001b[32m━━━━━━━━━━━━━━━━━━━━\u001b[0m\u001b[37m\u001b[0m \u001b[1m1s\u001b[0m 5ms/step - accuracy: 0.8863 - loss: 0.2746 - val_accuracy: 0.8606 - val_loss: 0.3554\n",
            "Epoch 81/100\n",
            "\u001b[1m110/110\u001b[0m \u001b[32m━━━━━━━━━━━━━━━━━━━━\u001b[0m\u001b[37m\u001b[0m \u001b[1m0s\u001b[0m 4ms/step - accuracy: 0.8834 - loss: 0.2793 - val_accuracy: 0.8611 - val_loss: 0.3515\n",
            "Epoch 82/100\n",
            "\u001b[1m110/110\u001b[0m \u001b[32m━━━━━━━━━━━━━━━━━━━━\u001b[0m\u001b[37m\u001b[0m \u001b[1m1s\u001b[0m 4ms/step - accuracy: 0.8832 - loss: 0.2789 - val_accuracy: 0.8633 - val_loss: 0.3550\n",
            "Epoch 83/100\n",
            "\u001b[1m110/110\u001b[0m \u001b[32m━━━━━━━━━━━━━━━━━━━━\u001b[0m\u001b[37m\u001b[0m \u001b[1m0s\u001b[0m 4ms/step - accuracy: 0.8830 - loss: 0.2795 - val_accuracy: 0.8583 - val_loss: 0.3671\n",
            "Epoch 84/100\n",
            "\u001b[1m110/110\u001b[0m \u001b[32m━━━━━━━━━━━━━━━━━━━━\u001b[0m\u001b[37m\u001b[0m \u001b[1m1s\u001b[0m 4ms/step - accuracy: 0.8814 - loss: 0.2899 - val_accuracy: 0.8589 - val_loss: 0.3596\n",
            "Epoch 85/100\n",
            "\u001b[1m110/110\u001b[0m \u001b[32m━━━━━━━━━━━━━━━━━━━━\u001b[0m\u001b[37m\u001b[0m \u001b[1m1s\u001b[0m 5ms/step - accuracy: 0.8825 - loss: 0.2809 - val_accuracy: 0.8600 - val_loss: 0.3575\n",
            "Epoch 86/100\n",
            "\u001b[1m110/110\u001b[0m \u001b[32m━━━━━━━━━━━━━━━━━━━━\u001b[0m\u001b[37m\u001b[0m \u001b[1m0s\u001b[0m 4ms/step - accuracy: 0.8808 - loss: 0.2790 - val_accuracy: 0.8600 - val_loss: 0.3612\n",
            "Epoch 87/100\n",
            "\u001b[1m110/110\u001b[0m \u001b[32m━━━━━━━━━━━━━━━━━━━━\u001b[0m\u001b[37m\u001b[0m \u001b[1m1s\u001b[0m 4ms/step - accuracy: 0.8831 - loss: 0.2805 - val_accuracy: 0.8583 - val_loss: 0.3663\n",
            "Epoch 88/100\n",
            "\u001b[1m110/110\u001b[0m \u001b[32m━━━━━━━━━━━━━━━━━━━━\u001b[0m\u001b[37m\u001b[0m \u001b[1m0s\u001b[0m 3ms/step - accuracy: 0.8816 - loss: 0.2772 - val_accuracy: 0.8528 - val_loss: 0.3657\n",
            "Epoch 89/100\n",
            "\u001b[1m110/110\u001b[0m \u001b[32m━━━━━━━━━━━━━━━━━━━━\u001b[0m\u001b[37m\u001b[0m \u001b[1m1s\u001b[0m 4ms/step - accuracy: 0.8901 - loss: 0.2710 - val_accuracy: 0.8578 - val_loss: 0.3687\n",
            "Epoch 90/100\n",
            "\u001b[1m110/110\u001b[0m \u001b[32m━━━━━━━━━━━━━━━━━━━━\u001b[0m\u001b[37m\u001b[0m \u001b[1m1s\u001b[0m 4ms/step - accuracy: 0.8841 - loss: 0.2734 - val_accuracy: 0.8561 - val_loss: 0.3666\n",
            "Epoch 91/100\n",
            "\u001b[1m110/110\u001b[0m \u001b[32m━━━━━━━━━━━━━━━━━━━━\u001b[0m\u001b[37m\u001b[0m \u001b[1m1s\u001b[0m 4ms/step - accuracy: 0.8816 - loss: 0.2775 - val_accuracy: 0.8567 - val_loss: 0.3675\n",
            "Epoch 92/100\n",
            "\u001b[1m110/110\u001b[0m \u001b[32m━━━━━━━━━━━━━━━━━━━━\u001b[0m\u001b[37m\u001b[0m \u001b[1m1s\u001b[0m 5ms/step - accuracy: 0.8864 - loss: 0.2719 - val_accuracy: 0.8589 - val_loss: 0.3617\n",
            "Epoch 93/100\n",
            "\u001b[1m110/110\u001b[0m \u001b[32m━━━━━━━━━━━━━━━━━━━━\u001b[0m\u001b[37m\u001b[0m \u001b[1m1s\u001b[0m 6ms/step - accuracy: 0.8860 - loss: 0.2741 - val_accuracy: 0.8572 - val_loss: 0.3692\n",
            "Epoch 94/100\n",
            "\u001b[1m110/110\u001b[0m \u001b[32m━━━━━━━━━━━━━━━━━━━━\u001b[0m\u001b[37m\u001b[0m \u001b[1m1s\u001b[0m 5ms/step - accuracy: 0.8847 - loss: 0.2719 - val_accuracy: 0.8572 - val_loss: 0.3712\n",
            "Epoch 95/100\n",
            "\u001b[1m110/110\u001b[0m \u001b[32m━━━━━━━━━━━━━━━━━━━━\u001b[0m\u001b[37m\u001b[0m \u001b[1m1s\u001b[0m 5ms/step - accuracy: 0.8915 - loss: 0.2723 - val_accuracy: 0.8550 - val_loss: 0.3679\n",
            "Epoch 96/100\n",
            "\u001b[1m110/110\u001b[0m \u001b[32m━━━━━━━━━━━━━━━━━━━━\u001b[0m\u001b[37m\u001b[0m \u001b[1m1s\u001b[0m 4ms/step - accuracy: 0.8863 - loss: 0.2688 - val_accuracy: 0.8617 - val_loss: 0.3645\n",
            "Epoch 97/100\n",
            "\u001b[1m110/110\u001b[0m \u001b[32m━━━━━━━━━━━━━━━━━━━━\u001b[0m\u001b[37m\u001b[0m \u001b[1m1s\u001b[0m 4ms/step - accuracy: 0.8857 - loss: 0.2681 - val_accuracy: 0.8572 - val_loss: 0.3699\n",
            "Epoch 98/100\n",
            "\u001b[1m110/110\u001b[0m \u001b[32m━━━━━━━━━━━━━━━━━━━━\u001b[0m\u001b[37m\u001b[0m \u001b[1m1s\u001b[0m 5ms/step - accuracy: 0.8862 - loss: 0.2731 - val_accuracy: 0.8561 - val_loss: 0.3731\n",
            "Epoch 99/100\n",
            "\u001b[1m110/110\u001b[0m \u001b[32m━━━━━━━━━━━━━━━━━━━━\u001b[0m\u001b[37m\u001b[0m \u001b[1m0s\u001b[0m 4ms/step - accuracy: 0.8881 - loss: 0.2662 - val_accuracy: 0.8594 - val_loss: 0.3669\n",
            "Epoch 100/100\n",
            "\u001b[1m110/110\u001b[0m \u001b[32m━━━━━━━━━━━━━━━━━━━━\u001b[0m\u001b[37m\u001b[0m \u001b[1m1s\u001b[0m 4ms/step - accuracy: 0.8932 - loss: 0.2651 - val_accuracy: 0.8550 - val_loss: 0.3717\n",
            "**********************************************************************************************************************************\n",
            "Model has been fit to training data.\n"
          ]
        }
      ]
    },
    {
      "cell_type": "code",
      "source": [
        "#Plotting Train Loss vs Validation Loss\n",
        "plt.plot(history2.history['loss'])\n",
        "plt.plot(history2.history['val_loss'])\n",
        "plt.title('model loss')\n",
        "plt.ylabel('Loss')\n",
        "plt.xlabel('Epoch')\n",
        "plt.legend(['train', 'validation'], loc='upper right')\n",
        "plt.show()\n",
        "\n",
        "# Printing results.\n",
        "results = model2.evaluate(X_test, y_test)"
      ],
      "metadata": {
        "id": "5KfnGzfU9ZuQ",
        "outputId": "d54ca204-765b-41ee-9c98-c4124b8b8122",
        "colab": {
          "base_uri": "https://localhost:8080/",
          "height": 489
        }
      },
      "execution_count": 102,
      "outputs": [
        {
          "output_type": "display_data",
          "data": {
            "text/plain": [
              "<Figure size 640x480 with 1 Axes>"
            ],
            "image/png": "[encoded data removed]"
          },
          "metadata": {}
        },
        {
          "output_type": "stream",
          "name": "stdout",
          "text": [
            "\u001b[1m38/38\u001b[0m \u001b[32m━━━━━━━━━━━━━━━━━━━━\u001b[0m\u001b[37m\u001b[0m \u001b[1m1s\u001b[0m 10ms/step - accuracy: 0.8379 - loss: 0.4182\n"
          ]
        }
      ]
    },
    {
      "cell_type": "code",
      "source": [
        "# Predicting probabilities.\n",
        "yhat2 = model2.predict(X_train)\n",
        "# Keeping probabilities for the positive outcomes only.\n",
        "yhat2 = yhat2[:, 0]\n",
        "# Calculating roc curves.\n",
        "fpr, tpr, thresholds2 = roc_curve(y_train, yhat2)\n",
        "# Calculating the g-mean for each threshold.\n",
        "gmeans2 = np.sqrt(tpr * (1-fpr))\n",
        "# Locating the index of the largest g-mean.\n",
        "ix = np.argmax(gmeans2)\n",
        "print('Best Threshold=%f, G-Mean=%.3f' % (thresholds2[ix], gmeans2[ix]))\n",
        "# Plotting the roc curve for the model.\n",
        "plt.plot([0,1], [0,1], linestyle='--', label='No Skill')\n",
        "plt.plot(fpr, tpr, marker='.')\n",
        "plt.scatter(fpr[ix], tpr[ix], marker='o', color='black', label='Best')\n",
        "# Axis labels.\n",
        "plt.xlabel('False Positive Rate')\n",
        "plt.ylabel('True Positive Rate')\n",
        "plt.legend()\n",
        "# Showing the plot.\n",
        "plt.show()"
      ],
      "metadata": {
        "id": "G32Iu4kt9odZ",
        "outputId": "41bd86c6-ac88-4516-b08b-fde5f4d87f98",
        "colab": {
          "base_uri": "https://localhost:8080/",
          "height": 484
        }
      },
      "execution_count": 103,
      "outputs": [
        {
          "output_type": "stream",
          "name": "stdout",
          "text": [
            "\u001b[1m219/219\u001b[0m \u001b[32m━━━━━━━━━━━━━━━━━━━━\u001b[0m\u001b[37m\u001b[0m \u001b[1m1s\u001b[0m 3ms/step\n",
            "Best Threshold=0.246260, G-Mean=0.886\n"
          ]
        },
        {
          "output_type": "display_data",
          "data": {
            "text/plain": [
              "<Figure size 640x480 with 1 Axes>"
            ],
            "image/png": "[encoded data removed]"
          },
          "metadata": {}
        }
      ]
    },
    {
      "cell_type": "code",
      "source": [
        "# Predicting the results using best as a threshold.\n",
        "y_pred2 = model2.predict(X_val)\n",
        "y_pred2 = (y_pred2 > thresholds2[ix])\n",
        "y_pred2"
      ],
      "metadata": {
        "id": "e_Oxr3Vi9q0h",
        "outputId": "77b74063-f577-4b61-a024-8e8eb0b248bd",
        "colab": {
          "base_uri": "https://localhost:8080/"
        }
      },
      "execution_count": 104,
      "outputs": [
        {
          "output_type": "stream",
          "name": "stdout",
          "text": [
            "\u001b[1m57/57\u001b[0m \u001b[32m━━━━━━━━━━━━━━━━━━━━\u001b[0m\u001b[37m\u001b[0m \u001b[1m0s\u001b[0m 8ms/step\n"
          ]
        },
        {
          "output_type": "execute_result",
          "data": {
            "text/plain": [
              "array([[False],\n",
              "       [ True],\n",
              "       [False],\n",
              "       ...,\n",
              "       [False],\n",
              "       [False],\n",
              "       [False]])"
            ]
          },
          "metadata": {},
          "execution_count": 104
        }
      ]
    },
    {
      "cell_type": "code",
      "source": [
        "# Calculating the confusion matrix.\n",
        "from sklearn.metrics import confusion_matrix\n",
        "cm2 = confusion_matrix(y_val, y_pred2)\n",
        "labels = ['True Negative','False Positive','False Negative','True Positive']\n",
        "categories = [ 'Not Exiting','Exiting']\n",
        "make_confusion_matrix(cm2,\n",
        "                      group_names=labels,\n",
        "                      categories=categories,\n",
        "                      cmap='Blues')"
      ],
      "metadata": {
        "id": "wSAzH--F9sqB",
        "outputId": "62d9b908-94a3-48b4-83b4-8b74ff983de6",
        "colab": {
          "base_uri": "https://localhost:8080/",
          "height": 534
        }
      },
      "execution_count": 105,
      "outputs": [
        {
          "output_type": "display_data",
          "data": {
            "text/plain": [
              "<Figure size 640x480 with 2 Axes>"
            ],
            "image/png": "[encoded data removed]"
          },
          "metadata": {}
        }
      ]
    },
    {
      "cell_type": "code",
      "source": [],
      "metadata": {
        "id": "_m_pK5p09uVT"
      },
      "execution_count": null,
      "outputs": []
    },
    {
      "cell_type": "markdown",
      "source": [],
      "metadata": {
        "id": "4vD2Vn3W9A5I"
      }
    },
    {
      "cell_type": "markdown",
      "metadata": {
        "id": "srfZVuMKc6Y_"
      },
      "source": [
        "## Model Performance Comparison and Final Model Selection"
      ]
    },
    {
      "cell_type": "code",
      "execution_count": null,
      "metadata": {
        "id": "_vhQsZT5MR_9"
      },
      "outputs": [],
      "source": [
        "print(\"Training performance comparison\")\n",
        "train_metric_df"
      ]
    },
    {
      "cell_type": "code",
      "execution_count": null,
      "metadata": {
        "id": "HxPFe64OMZmq"
      },
      "outputs": [],
      "source": [
        "print(\"Validation set performance comparison\")\n",
        "valid_metric_df"
      ]
    },
    {
      "cell_type": "code",
      "execution_count": null,
      "metadata": {
        "id": "EUmlwqKBXs-2"
      },
      "outputs": [],
      "source": [
        "train_metric_df - valid_metric_df"
      ]
    },
    {
      "cell_type": "code",
      "execution_count": null,
      "metadata": {
        "id": "4IElL-J32Co1"
      },
      "outputs": [],
      "source": [
        "y_test_pred = _____.predict(X_test)    ## Complete the code to specify the best model\n",
        "y_test_pred = (y_test_pred > 0.5)\n",
        "print(y_test_pred)"
      ]
    },
    {
      "cell_type": "code",
      "execution_count": null,
      "metadata": {
        "id": "kL1decKP2Co2"
      },
      "outputs": [],
      "source": [
        "#lets print classification report\n",
        "cr=classification_report(y_test,y_test_pred)\n",
        "print(cr)"
      ]
    },
    {
      "cell_type": "code",
      "execution_count": null,
      "metadata": {
        "id": "ehu4Ste92Co2"
      },
      "outputs": [],
      "source": [
        "#Calculating the confusion matrix\n",
        "make_confusion_matrix(y_test,y_test_pred)"
      ]
    },
    {
      "cell_type": "markdown",
      "metadata": {
        "id": "XE1iHOqqOEmV"
      },
      "source": [
        "## Actionable Insights and Business Recommendations"
      ]
    },
    {
      "cell_type": "markdown",
      "metadata": {
        "id": "ouNNiEhUdhZL"
      },
      "source": [
        "*\n"
      ]
    },
    {
      "cell_type": "markdown",
      "metadata": {
        "id": "6R23W-K3CmM9"
      },
      "source": [
        "<font size=6 color='blue'>Power Ahead</font>\n",
        "___"
      ]
    }
  ],
  "metadata": {
    "accelerator": "GPU",
    "colab": {
      "collapsed_sections": [
        "Q__obHNhdHtV",
        "WSyQJZSAaPA3",
        "s749lpTNaRkN",
        "Tsb28swdaVAs",
        "FHHrSIl4c6Yn",
        "z7ubXtC8HUOA",
        "eRxrJ2MHd_Sf",
        "QaDNDpvjeBQU",
        "RpKrxKXZeH3o",
        "b7eb88AYeRWk",
        "CJMOqyjUeXT9",
        "Y23XCbZZhYVP",
        "nSFkV8KJiZSv",
        "XHFxrmIzkr7b",
        "0-p0ayX9kvQJ",
        "OlHTHF4glMxS",
        "UtHxkpQKllbh",
        "3cFHFmnXowW3",
        "biEj4Pc9o3Cu",
        "e6AkVarto4yY",
        "abf32fRPo8J0",
        "J1Z0d0Wiqpu-",
        "bSELHe5SqsN2",
        "YIEluIj_qvpu",
        "bCjF1MFJqxoz",
        "ztZW3u5pqzXa",
        "DH0MzRYcq1tS",
        "CUXPaUwZHUO8",
        "1nEEjgwleiMv",
        "wgpx0xlSTlzN",
        "qlSyq5fNHUPp",
        "ZLQMVCywT87j",
        "SzDpHlsFT_QA",
        "735HwSYiDSf1",
        "ygzPHkE_Anaw",
        "EcEiT7Vyc6Y0",
        "xwJ_FTNfU7ci",
        "1AFKraebbFFV",
        "BfhJCb0v16sR",
        "8v71_BRJ2Com",
        "srfZVuMKc6Y_",
        "XE1iHOqqOEmV"
      ],
      "gpuType": "T4",
      "provenance": []
    },
    "kernelspec": {
      "display_name": "Python 3 (ipykernel)",
      "language": "python",
      "name": "python3"
    },
    "language_info": {
      "codemirror_mode": {
        "name": "ipython",
        "version": 3
      },
      "file_extension": ".py",
      "mimetype": "text/x-python",
      "name": "python",
      "nbconvert_exporter": "python",
      "pygments_lexer": "ipython3",
      "version": "3.8.12"
    }
  },
  "nbformat": 4,
  "nbformat_minor": 0
}